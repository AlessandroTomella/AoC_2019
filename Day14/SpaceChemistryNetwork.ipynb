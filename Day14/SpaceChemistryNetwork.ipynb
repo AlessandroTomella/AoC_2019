{
 "cells": [
  {
   "cell_type": "code",
   "execution_count": 7,
   "metadata": {
    "ExecuteTime": {
     "end_time": "2020-12-14T13:19:25.420385Z",
     "start_time": "2020-12-14T13:19:25.398855Z"
    }
   },
   "outputs": [],
   "source": [
    "# Since the beginning of the challenge I've been wanting to use in some way the 'networkx' package\n",
    "# just to familiarize with it. I first though about it during the Day?? challenge (the one of the \n",
    "# orbit transfers). Back then I thought that however it would have been kind of cheating, or at least \n",
    "# I wanted to follow a more standard approach. With this challenge I've decided to give it a try.\n",
    "\n",
    "import networkx as nx\n",
    "import re\n",
    "import matplotlib as mpl\n",
    "import matplotlib.pyplot as plt\n",
    "\n",
    "\n",
    "# First I'll explain by what logic the input data was combined into a network structure. I followed a very\n",
    "# natural approach. Let's say our input data get combined in a DIRECTED NETWORK in which:\n",
    "# - every node is a chemical compound found in the data\n",
    "# - an edge between two nodes means that the corresponding elements are\n",
    "#   part of a reaction. Since the graph is directed, we can think of an edge as an arrow, whose direction\n",
    "#   represents which is the reactant and which the product. Every node can have\n",
    "#   1 or more arrows pointing to it (except for 'ORE', which has none), which means that more \n",
    "#   reactant are needed to produce it, e.g. in the reaction:\n",
    "#              '1 A + 1 B => 1 C'\n",
    "#   node C will have 2 arrows pointing to it, one from node A and one from node B. Since, as\n",
    "#   specified in the assignment, every chemical is produced by exactly 1 reaction, \n",
    "#   this arranging of arrows causes no confusion. \n",
    "#   Similarly, every node can have 1 or more arrows coming out of it (except for 'FUEL', which has none), \n",
    "#   since the same chemical can appear as a reactant in more than 1 reaction.\n",
    "# - every node has a 'unit' attribute, an integer value given by the amount in which the corresponding element\n",
    "#   is produced in the reaction given in the input data. It is the minimum quantity of that element\n",
    "#   that can be produced.\n",
    "# - nodes also have a 'mass' attribute, which stores how much of that element is actually\n",
    "#   stored in the node. It must be an integer multiple of the node's 'unit'. While 'unit'\n",
    "#   is a constant variable for each node, 'mass' will change while working on the network.\n",
    "# - every edge has a 'weight', another integer which indicates how much of the\n",
    "#   corresponding reactant (start of the arrow) is needed to produce the product (end of the arrow). \n",
    "#   Again, this value is given by the reactions in the input data, and does never change during the program.\n",
    "# - finallly, edges also have an attribute called 'multiplicity', which indicates HOW MANY TIMES\n",
    "#   the given reaction must be run to create the amount of product stored in the 'mass'\n",
    "#   variable of the corresponding node.\n",
    "#\n",
    "# While 'unit' attributes for nodes and 'weight' attributes for edges are straight-forward,  \n",
    "# 'mass' and 'multiplicity' bring some more structure to the network, which is needed to solve\n",
    "# both Part 1 and Part 2. To understand how, let's consider a single node. In general, it will have \n",
    "# arrows coming in and out of it, all with different weights and multiplicities. The basic principle \n",
    "# behind the 'balance_network()' function is to check, for every node in the network, \n",
    "# if the total request for the corresponding element is greater than the currently available quantity, \n",
    "# and to update the resources if it isn't. More specifically, the total request associated with\n",
    "# a node is given by the sum over all OUTGOING edges of their 'weights' attributes times their\n",
    "# 'multiplicities' attributes. The available quantity of that element is instead given by \n",
    "# the 'mass' attribute of the node. If the former is greater than the latter we have to run the reaction \n",
    "# that produce the element as many times as to revert the situation. This means, not only\n",
    "# updating the 'mass' of the node to a greater value, but also increasing the 'multiplicity' attribute \n",
    "# of all the edges COMING INTO the node: if we need double of 'C' (where 'C' is produced as above) then\n",
    "# we will need also double the REQUEST of 'A' and 'B'. \n",
    "# One can imagine that by repeating this 'balance' procedure for every node in the graph, \n",
    "# and by iterating the procedure few times, the multiplicities settle to a value for which the\n",
    "# network has reached an 'equilibrium': every node has enough of its element to satisfy all the \n",
    "# outgoing requests. \n",
    "#\n",
    "# Here is the function that implements this balance procedure for the network.\n",
    "def balance_network(net, fuel):\n",
    "\n",
    "    # Reset network state. The algorithm only works if the masses for all nodes are\n",
    "    # initially equal to the amounts produced in the basic reactions given as puzzle input.\n",
    "    # Accordingly, the multiplicities must all be set to 1.\n",
    "    reset_network_state(net)\n",
    "    \n",
    "    # Set the desired level of fuel we want to obtain. The algorithm will then balance\n",
    "    # the masses and multiplicities of nodes and edges of the network to achieve this goal.\n",
    "    set_desired_fuel(net, fuel)\n",
    "    \n",
    "    balance = False\n",
    "    \n",
    "    while balance is not True:\n",
    "    \n",
    "        balance = True\n",
    "        \n",
    "        # For all nodes in the network\n",
    "        for elem in net.nodes:\n",
    "            \n",
    "            # Skip if element is 'ORE'. For this element we do not have a particular weigth, \n",
    "            # since we can in principle collect how much we want of it.\n",
    "            if elem == 'ORE':\n",
    "                continue\n",
    "            \n",
    "            # Total request for current element\n",
    "            request = 0\n",
    "    \n",
    "            # Consider links going out from the node\n",
    "            for out_link in net.out_edges(elem):\n",
    "            \n",
    "                # Take weight and multiplicity of link, multiply them and add all results\n",
    "                # to find the total request for the current element.\n",
    "                weight_of_edge = net.edges[out_link[0], out_link[1]]['weight']\n",
    "                multiplicity = net.edges[out_link[0], out_link[1]]['multiplicity']\n",
    "                request += weight_of_edge*multiplicity\n",
    "    \n",
    "            \n",
    "            # Set current available quantity and basic unit of the element\n",
    "            available = net.nodes[elem]['mass']\n",
    "            unit = net.nodes[elem]['unit']\n",
    "            \n",
    "            # If the request is greater than the available quantity, update variables           \n",
    "            if request > net.nodes[elem]['mass']:\n",
    "                \n",
    "                if (request - available)%unit == 0:\n",
    "                    factor = (request - available)//unit\n",
    "                else:\n",
    "                    factor = ((request - available)//unit)+1 \n",
    "                \n",
    "                # Increment mass of element in units of 'unit'\n",
    "                net.nodes[elem]['mass'] += factor*unit\n",
    "                \n",
    "                # Increment 'multiplicities' of edges coming into the node\n",
    "                for in_link in net.in_edges(elem):\n",
    "                    net.edges[in_link[0], in_link[1]]['multiplicity'] += factor\n",
    "\n",
    "                balance = False \n",
    "                    \n",
    "    return \n",
    " \n",
    "\n",
    "    \n",
    "def set_desired_fuel(net, fuel):\n",
    "\n",
    "    net.nodes['FUEL']['mass'] = fuel\n",
    "    for edge in net.in_edges('FUEL'):\n",
    "        net.edges[edge[0], edge[1]]['multiplicity'] = fuel\n",
    "        \n",
    "    return \n",
    "\n",
    "\n",
    "# Get the total amount of ORE requested. This function is to be called only AFTER the balancing algorithm.\n",
    "# Otherwise it would just give the total ORE requested in the puzzle input.\n",
    "def total_ore_request(net):\n",
    "    \n",
    "    ore=0\n",
    "    for edge in net.out_edges('ORE'):\n",
    "        ore += net.edges[edge[0], edge[1]]['weight']*net.edges[edge[0], edge[1]]['multiplicity']\n",
    "\n",
    "    return ore\n",
    "\n",
    "\n",
    "# Function that resets 'mass' and 'multiplicity' attributes to original values\n",
    "def reset_network_state(net):\n",
    "    \n",
    "    for node in net.nodes:\n",
    "        net.nodes[node]['mass'] =  net.nodes[node]['unit'] if node != 'FUEL' else 0\n",
    "        \n",
    "        for edge in net.out_edges(node):\n",
    "            net.edges[edge[0], edge[1]]['multiplicity'] = 1\n",
    "            \n",
    "    return"
   ]
  },
  {
   "cell_type": "code",
   "execution_count": 11,
   "metadata": {
    "ExecuteTime": {
     "end_time": "2020-12-14T13:21:17.011546Z",
     "start_time": "2020-12-14T13:21:17.001545Z"
    }
   },
   "outputs": [],
   "source": [
    "# Initialize a list of chemicals and of reactions from the input data.\n",
    "chems = set()\n",
    "react_list = []\n",
    "\n",
    "with open('input.txt', 'r') as infile:\n",
    "    for line in infile:\n",
    "        \n",
    "        if line == '\\n':\n",
    "            continue\n",
    "        \n",
    "        elem = [item for item in re.findall('[A-Z]*', line) if item is not '']\n",
    "        quant = [int(item) for item in re.findall('[0-9]*', line) if item is not '']\n",
    "        # Update method for sets allows to add elements from a list\n",
    "        chems.update(elem) \n",
    "        react_list.append([item for item in zip(quant, elem)])"
   ]
  },
  {
   "cell_type": "code",
   "execution_count": 12,
   "metadata": {
    "ExecuteTime": {
     "end_time": "2020-12-14T13:21:17.952504Z",
     "start_time": "2020-12-14T13:21:17.944205Z"
    }
   },
   "outputs": [],
   "source": [
    "# Initialize a Directed Graph instance, and add nodes from our set of chemicals. Add the attributes\n",
    "# 'unit' and 'mass' to each nde.\n",
    "G = nx.DiGraph()\n",
    "G.add_nodes_from(list(chems), unit = 0, mass=0)\n",
    "\n",
    "# Add edges to the graph, and initialize the 'unit' attributes of each node. ORE will stay with unit=0.\n",
    "# Also, add 'multiplicity' attribute to edges.\n",
    "for item in react_list:\n",
    "    product = item[-1][1]\n",
    "    quantity = item[-1][0]\n",
    "    G.nodes[product]['unit'] = quantity\n",
    "    G.add_weighted_edges_from([(item[i][1], product, item[i][0]) for i in range(len(item)-1)], multiplicity = 1)"
   ]
  },
  {
   "cell_type": "code",
   "execution_count": 13,
   "metadata": {
    "ExecuteTime": {
     "end_time": "2020-12-14T13:21:19.115435Z",
     "start_time": "2020-12-14T13:21:19.090198Z"
    }
   },
   "outputs": [
    {
     "name": "stdout",
     "output_type": "stream",
     "text": [
      "ORE for 1 FUEL:  469536\n"
     ]
    }
   ],
   "source": [
    "# Call the balance algorithm with a request for 1 FUEL\n",
    "fuel = 1\n",
    "balance_network(G, fuel)\n",
    "ore_per_fuel = total_ore_request(G)\n",
    "print(\"ORE for\", fuel, \"FUEL: \", ore_per_fuel)"
   ]
  },
  {
   "cell_type": "markdown",
   "metadata": {},
   "source": [
    "### Part 2"
   ]
  },
  {
   "cell_type": "code",
   "execution_count": 19,
   "metadata": {
    "ExecuteTime": {
     "end_time": "2020-12-14T13:35:07.573601Z",
     "start_time": "2020-12-14T13:35:07.551875Z"
    }
   },
   "outputs": [
    {
     "name": "stdout",
     "output_type": "stream",
     "text": [
      ". A lower estimate on the FUEL we can produce with  1000000000000 ORE:  2129762\n",
      ". Check that to produce 10 millions FUEL we need more than 1 trillion ORE:\n",
      "1 trillion - total ORE for 10 million FUELS =  -1990898121738\n",
      "\n",
      "This two clues together imply that the FUEL produced with 1 trillion ORE is between 2 millions and 10 millions.\n"
     ]
    }
   ],
   "source": [
    "trillion = 1000000000000\n",
    "\n",
    "# Rough lower bound on FUEL \n",
    "lwr_bound = trillion//ore_per_fuel\n",
    "print(\". A lower estimate on the FUEL we can produce with \", trillion, \"ORE: \", lwr_bound)\n",
    "balance_network(G, 10000000)\n",
    "print(\". Check that to produce 10 millions FUEL we need more than 1 trillion ORE:\")\n",
    "print(\"1 trillion - total ORE for 10 million FUELS = \", trillion-total_ore_request(G))\n",
    "print(\"\\nThis two clues together imply that the FUEL produced with 1 trillion ORE is between 2 millions and 10 millions.\")"
   ]
  },
  {
   "cell_type": "code",
   "execution_count": 20,
   "metadata": {
    "ExecuteTime": {
     "end_time": "2020-12-14T13:36:29.211990Z",
     "start_time": "2020-12-14T13:36:28.846392Z"
    }
   },
   "outputs": [
    {
     "name": "stdout",
     "output_type": "stream",
     "text": [
      "Maximum FUEL produced with 1 trillion ore:  3343477\n"
     ]
    }
   ],
   "source": [
    "# With the previous information we can find the solution of Part 2 with the following algorithm, \n",
    "# in order to avoid brute-forcing.\n",
    "# Starting from the lower bound of 2 millions, and knowing the fuel will be in the 'million' range, \n",
    "# the idea is to change the digits of the fuel starting from the one in the million position, \n",
    "# then the hundreds of thousands and so forth. By the end of the procedure, we will have \n",
    "# the desired amount of FUEL that can be made with no more than 1 trillion ORE.\n",
    "\n",
    "# Split the fuel value into its digits\n",
    "fuel = 2000000\n",
    "cyphers = list(str(fuel))\n",
    "\n",
    "# Cycling over the digits\n",
    "for i in range(len(dis)):\n",
    "    \n",
    "    # Current digit to act upon\n",
    "    curr = cyphers[i]\n",
    "    # The remaining part of the number, as strings\n",
    "    top = ''.join(cyphers[0:i]) if cyphers[0:i] is not [] else None\n",
    "    end = ''.join(cyphers[i+1:]) if cyphers[i+1:] is not [] else None\n",
    "        \n",
    "    count = 0\n",
    "    ore = 0\n",
    "    while ore < trillion:\n",
    "        count += 1\n",
    "        # Create the new value for the fuel, glueing the different part of the number\n",
    "        # with the increased current digit\n",
    "        fuel = int(top+str(int(curr)+count)+end)\n",
    "        # Balancing the network for that fuel value\n",
    "        balance_network(G, fuel)\n",
    "        # Get corresponding ore request\n",
    "        ore = total_ore_request(G)        \n",
    "    \n",
    "    # New values of the digits of fuel\n",
    "    cyphers = list(top+str(int(curr)+count-1)+end)\n",
    "\n",
    "print(\"Maximum FUEL produced with 1 trillion ore: \", ''.join(cyphers))"
   ]
  },
  {
   "cell_type": "code",
   "execution_count": 11,
   "metadata": {
    "ExecuteTime": {
     "end_time": "2020-12-10T10:23:08.029690Z",
     "start_time": "2020-12-10T10:23:07.675472Z"
    }
   },
   "outputs": [
    {
     "data": {
      "image/png": "[encoded data removed]",
      "text/plain": [
       "<Figure size 576x576 with 1 Axes>"
      ]
     },
     "metadata": {},
     "output_type": "display_data"
    }
   ],
   "source": [
    "plt.figure(figsize=(8, 8))\n",
    "\n",
    "pos = nx.layout.spring_layout(G, 1/G.number_of_nodes()**(1/10))\n",
    "nodes = nx.draw_networkx_nodes(G, pos) # node_size=node_sizes, node_color=\"blue\")\n",
    "#nx.draw_networkx_labels(G, pos=pos)\n",
    "edges = nx.draw_networkx_edges(G, pos, arrowstyle=\"->\", width=2) #node_size=node_sizes, arrowsize=10,\n",
    "                                                                #edge_color=edge_colors, edge_cmap=plt.cm.Blues,\n",
    "pc = mpl.collections.PatchCollection(edges, cmap=plt.cm.Blues)\n",
    "#pc.set_array(edge_colors)\n",
    "#plt.colorbar(pc)\n",
    "\n",
    "ax = plt.gca()\n",
    "ax.set_axis_off()\n",
    "plt.show()"
   ]
  },
  {
   "cell_type": "code",
   "execution_count": null,
   "metadata": {},
   "outputs": [],
   "source": []
  }
 ],
 "metadata": {
  "kernelspec": {
   "display_name": "Python 3",
   "language": "python",
   "name": "python3"
  },
  "language_info": {
   "codemirror_mode": {
    "name": "ipython",
    "version": 3
   },
   "file_extension": ".py",
   "mimetype": "text/x-python",
   "name": "python",
   "nbconvert_exporter": "python",
   "pygments_lexer": "ipython3",
   "version": "3.6.9"
  }
 },
 "nbformat": 4,
 "nbformat_minor": 2
}
