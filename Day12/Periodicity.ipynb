{
 "cells": [
  {
   "cell_type": "markdown",
   "metadata": {},
   "source": [
    "### Part 2: Periodicity of the motion.\n",
    "\n",
    "This was NOT EASY. From the beginning I knew I had to look into the equations of motions to find some recurring pattern which simplified the dynamics. By looking at the extensive examples provided in the assignment I could tell that the motion on the various axes were decoupled and also that there were a lot of conserved quantities. In particular the sum of the components of both velocity and position of the 4 bodies on every axes were constant. In other words, if $X^i_\\alpha(t)$ are the components of the position of body at time $t$ and $V^i_\\alpha(t)$ are the ones of its velocity, it holds that:\n",
    "\n",
    "\\begin{equation}\n",
    "\\sum_{\\alpha = 1}^{4} X^i_\\alpha(t) = \\sum_{\\alpha = 1}^{ 4} X^i_\\alpha(0)\\\\\n",
    "    \\sum_{\\alpha = 1}^{4} V^i_\\alpha(t) = \\sum_{\\alpha = 1}^{ 4} V^i_\\alpha(0) = 0 \\hspace{0.5 cm} \\forall i = 1, 2, 3\n",
    "\\end{equation}\n",
    "\n",
    "I thought I could use these to simplify the dynamics, but the fact that the dynamic of one bodies depends on all the others made this seem difficult.\n",
    "\n",
    "Not having any useful insight (I thought I didn't) I gave up and looked at some hint on reddit, only to find that the decoupling of the motion on the axes was in fact the right path to follow. With this new certainty, I generalized my classes to work on variable dimension by specifying it in the constructors of the objects.\n",
    "\n",
    "It then occurred to me. The decoupling essentially means that the 3 dimensional system is simply 3 copies of the same 1 dimensional system, all starting from a different initial condition. These means that if I I know the periodicity of the one dimensional system starting from the 3 initial conditions, the periodicity of the 3d one will be the ***least common multiplier between these 3 periodicities***. \n",
    "\n",
    "\\begin{equation}\n",
    "\\hspace{0.5 cm} X - - - X - - - X - - - X \\\\\n",
    "\\hspace{0.6 cm}  X - X - X - X - X - X - X \\\\ \n",
    "\\hspace{0.6 cm}X - - \\hspace{0.2 cm}X - - \\hspace{0.1 cm}X - - \\hspace{0.1 cm}X - - \\hspace{0.2 cm}X  \n",
    "\\end{equation}\n"
   ]
  },
  {
   "cell_type": "code",
   "execution_count": 201,
   "metadata": {
    "ExecuteTime": {
     "end_time": "2020-12-01T15:20:22.749543Z",
     "start_time": "2020-12-01T15:20:22.728905Z"
    }
   },
   "outputs": [],
   "source": [
    "import itertools as itools\n",
    "import re\n",
    "import numpy as np  \n",
    "import math\n",
    "\n",
    "    \n",
    "class Moon:\n",
    "    \n",
    "    def __init__(self, dim, position = None, velocity = None, ):\n",
    "        \n",
    "        self.dimension = dim\n",
    "        self.position = np.array(position).astype(int) if position is not None else np.zeros(dim).astype(int)\n",
    "        self.velocity = np.array(velocity).astype(int) if velocity is not None else np.zeros(dim).astype(int)\n",
    "\n",
    "        return\n",
    "\n",
    "    \n",
    "    def modulus_position(self):\n",
    "        \n",
    "        return sum([abs(x) for x in self.position])\n",
    "    \n",
    "    def modulus_velocity(self):\n",
    "        \n",
    "        return sum([abs(x) for x in self.velocity])\n",
    "\n",
    "\n",
    "# Class of the Nbody problem. Init function needs a dictionary as input in the form\n",
    "# bodies = {'NAME_OF_THE_BODY': OBJECT_OF_TYPE_<Moon>, ...}\n",
    "class NbodySystem:\n",
    "    \n",
    "    def __init__(self, bodies = None):\n",
    "        \n",
    "        self.bodies = dict()\n",
    "        self.dimension = 0\n",
    "        if bodies is not None:\n",
    "            self.bodies = bodies\n",
    "            # Set dimension of system as the dimension of one item (the last in our implementation\n",
    "            # but could be any) of the dictionary which is passed to the initializer\n",
    "            self.dimension = self.bodies[list(self.bodies)[-1]].dimension\n",
    "            \n",
    "        return\n",
    "    \n",
    "    # Perform one integration step\n",
    "    def integration_step(self):\n",
    "            \n",
    "        for pair in itools.combinations(list(self.bodies), 2):\n",
    "            \n",
    "            body1 = self.bodies[pair[0]]\n",
    "            body2 = self.bodies[pair[1]]\n",
    "            \n",
    "            # Updating velocities\n",
    "            for i in range(self.dimension):\n",
    "                if body1.position[i] > body2.position[i]:\n",
    "                    body1.velocity[i] -= 1\n",
    "                    body2.velocity[i] += 1\n",
    "                elif body1.position[i] < body2.position[i]:\n",
    "                    body1.velocity[i] += 1\n",
    "                    body2.velocity[i] -= 1\n",
    "                    \n",
    "        # Updating position AFTER the update of velocities\n",
    "        for key in self.bodies:\n",
    "            self.bodies[key].position += self.bodies[key].velocity\n",
    "        \n",
    "\n",
    "        return\n",
    "    \n",
    "    \n",
    "    def total_energy(self):\n",
    "        \n",
    "        total = 0\n",
    "        \n",
    "        for key in self.bodies:\n",
    "            potential = self.bodies[key].modulus_position()\n",
    "            kinetic = self.bodies[key].modulus_velocity()\n",
    "            total += potential*kinetic\n",
    "            \n",
    "        return total\n",
    "    \n",
    "    \n",
    "    # Print the state of the system\n",
    "    def print_system(self):\n",
    "        \n",
    "        for key in self.bodies:\n",
    "            body = self.bodies[key]\n",
    "            print(key, \"<\", body.position,\" > --- <\", body.velocity, \" >\")\n",
    "        \n",
    "        print(\"Total energy: \", self.total_energy())\n",
    "        print('\\n')\n",
    "        \n",
    "        return"
   ]
  },
  {
   "cell_type": "code",
   "execution_count": 202,
   "metadata": {
    "ExecuteTime": {
     "end_time": "2020-12-01T15:20:24.304856Z",
     "start_time": "2020-12-01T15:20:24.300062Z"
    }
   },
   "outputs": [],
   "source": [
    "input_data = []\n",
    "with open('input.txt', 'r') as infile:\n",
    "    for line in infile:\n",
    "        if line == '\\n':\n",
    "            continue\n",
    "        else:\n",
    "            found = re.findall('-?[0-9]*', line) # <--- Look at this bad boy, I'm so proud!\n",
    "            input_data.append([int(x) for x in found if x is not ''])\n",
    "            "
   ]
  },
  {
   "cell_type": "code",
   "execution_count": 203,
   "metadata": {
    "ExecuteTime": {
     "end_time": "2020-12-01T15:21:05.490737Z",
     "start_time": "2020-12-01T15:20:54.237669Z"
    }
   },
   "outputs": [
    {
     "name": "stdout",
     "output_type": "stream",
     "text": [
      "[231614, 116328, 102356]\n"
     ]
    }
   ],
   "source": [
    "# Names of the moons\n",
    "moon_names = ['Io', 'Europa', 'Ganymede', 'Callisto']\n",
    "\n",
    "# Introduce list of periods\n",
    "period = [0, 0, 0]\n",
    "\n",
    "# Cycle over the three dimensions\n",
    "for i in range(3):\n",
    "\n",
    "    # Declare moon dictionary \n",
    "    moon_dict = dict()\n",
    "\n",
    "    # Get intial posisitons on current axis from input data\n",
    "    init_positions = [[x[i]] for x in input_data]\n",
    "\n",
    "    # create Moon dictionary with given initial positions\n",
    "    for name, pos in zip(moon_names, init_positions):\n",
    "        # Pass 1 as system is 1-dimensional\n",
    "        moon_dict[name] = Moon(1, position = pos)\n",
    "\n",
    "    # Instantiate Nbody system\n",
    "    moon_system_1D = NbodySystem(moon_dict)\n",
    "\n",
    "    # Boolean variable that check if the 4 bodies have returned to their previous position\n",
    "    are_back = False\n",
    "    \n",
    "    # While the 4 bodies have not returned to their initial positions\n",
    "    while not are_back:\n",
    "        \n",
    "        # Boolean variable for each body to see if it's back to its original position\n",
    "        is_back = [False, False, False, False]\n",
    "        \n",
    "        # Integrate system for one step\n",
    "        moon_system_1D.integration_step()\n",
    "    \n",
    "        # Check the system \n",
    "        for j, key in enumerate(moon_system_1D.bodies):\n",
    "            \n",
    "            # Useful not to write excessively long lines\n",
    "            body = moon_system_1D.bodies[key]\n",
    "            \n",
    "            # If current body has returned to its intial position set boolean variable to True\n",
    "            if [list(body.position), list(body.velocity)] == [init_positions[j], [0]]:\n",
    "            \n",
    "                is_back[j] = True\n",
    "         \n",
    "        # If all bodies are back, set global boolean variable to True\n",
    "        are_back = all(is_back)\n",
    "        \n",
    "        # Increase counter\n",
    "        period[i] += 1\n",
    "    \n",
    "print(period)"
   ]
  },
  {
   "cell_type": "code",
   "execution_count": 204,
   "metadata": {
    "ExecuteTime": {
     "end_time": "2020-12-01T15:21:15.261702Z",
     "start_time": "2020-12-01T15:21:15.256150Z"
    }
   },
   "outputs": [
    {
     "name": "stdout",
     "output_type": "stream",
     "text": [
      "344724687853944\n"
     ]
    }
   ],
   "source": [
    "# These are now the periods of the system on the three axis. We must find the least minimum multiple\n",
    "# to determine the periodo of the global 3D system. With numpy, this is simply\n",
    "print(np.lcm.reduce(period))"
   ]
  },
  {
   "cell_type": "code",
   "execution_count": null,
   "metadata": {},
   "outputs": [],
   "source": []
  }
 ],
 "metadata": {
  "kernelspec": {
   "display_name": "Python 3",
   "language": "python",
   "name": "python3"
  },
  "language_info": {
   "codemirror_mode": {
    "name": "ipython",
    "version": 3
   },
   "file_extension": ".py",
   "mimetype": "text/x-python",
   "name": "python",
   "nbconvert_exporter": "python",
   "pygments_lexer": "ipython3",
   "version": "3.6.9"
  }
 },
 "nbformat": 4,
 "nbformat_minor": 2
}
