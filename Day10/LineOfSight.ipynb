{
 "cells": [
  {
   "cell_type": "code",
   "execution_count": 1,
   "metadata": {
    "ExecuteTime": {
     "end_time": "2020-11-27T10:35:49.034576Z",
     "start_time": "2020-11-27T10:35:46.721191Z"
    }
   },
   "outputs": [],
   "source": [
    "import matplotlib.pyplot as plt\n",
    "import math\n",
    "\n",
    "# Euclidean distance between points\n",
    "def eucl_distance(p, q):\n",
    "    \n",
    "    return math.sqrt((p[0] - q[0])**2 + (p[1] - q[1])**2)\n"
   ]
  },
  {
   "cell_type": "code",
   "execution_count": 103,
   "metadata": {
    "ExecuteTime": {
     "end_time": "2020-11-27T14:38:30.956078Z",
     "start_time": "2020-11-27T14:38:30.511906Z"
    }
   },
   "outputs": [
    {
     "name": "stdout",
     "output_type": "stream",
     "text": [
      "Total of  360 asteroids. Here is a map\n"
     ]
    },
    {
     "data": {
      "image/png": "[encoded data removed]",
      "text/plain": [
       "<Figure size 720x720 with 1 Axes>"
      ]
     },
     "metadata": {
      "needs_background": "light"
     },
     "output_type": "display_data"
    }
   ],
   "source": [
    "# Initialize coordinate map. We can use a more usual coordinate system with the y-axis pointing upwards\n",
    "# (instead of the one suggested in the problem, with y-axis pointing downwards). We will need to go back on this\n",
    "# in part 2. \n",
    "coordinate_map = []\n",
    "y_line = 0\n",
    "with open('input.txt', 'r') as infile:\n",
    "    for line in infile.readlines():\n",
    "        split = list(line.replace('\\n', ''))\n",
    "        for i in range(len(split)):\n",
    "            if split[i] == '#':\n",
    "                coordinate_map.append([i, y_line])\n",
    "        y_line += 1\n",
    "\n",
    "print('Total of ', len(coordinate_map), 'asteroids. Here is a map')\n",
    "x = [item[0] for item in coordinate_map]\n",
    "y = [item[1] for item in coordinate_map]\n",
    "plt.figure(figsize=(10, 10))\n",
    "plt.scatter(x, y)        \n",
    "plt.grid()"
   ]
  },
  {
   "cell_type": "code",
   "execution_count": 96,
   "metadata": {
    "ExecuteTime": {
     "end_time": "2020-11-27T14:07:20.511956Z",
     "start_time": "2020-11-27T14:07:20.049847Z"
    }
   },
   "outputs": [],
   "source": [
    "# To find the total number of visible asteroid from a position, we use two key facts:\n",
    "# - given a base asteroid, for every othe asteroid we can compute an angle (measured for example from\n",
    "#   the x-axis in the counter-clockwise direction as it is standard to do) that corresponds to it \n",
    "# - this angle does not uniquely identify the asteroid, however, since two asteroids lying on the same\n",
    "# - line in the plane (passing also from the base), will have the same angle\n",
    "# The 'set()' data type is perfect for this situation! When we add an element to a set that already contains\n",
    "# that element, nothing is done. So by cycling thourgh the set of asteroids, with a fixed base, we can add \n",
    "# all their angles to a set and by the end the numerosity of the set is just the  number of asteroids detected\n",
    "# from that fixed base. The maximum of this values identifies the desired base\n",
    "\n",
    "detected = 0\n",
    "optimal = []\n",
    "\n",
    "for point in coordinate_map:\n",
    "    angles = set()\n",
    "    \n",
    "    for another in coordinate_map:\n",
    "        \n",
    "        if point == another:\n",
    "            continue\n",
    "\n",
    "        d = eucl_distance(point, another)\n",
    "        sin = round((point[1] - another[1])/d, 7)# *** see below!!\n",
    "        cos = round((point[0] - another[0])/d, 7)\n",
    "        # Create hashable string unique to the angle\n",
    "        angles.add(str(sin)+'&'+str(cos))\n",
    "    \n",
    "    count = len(angles)\n",
    "    if count > detected:\n",
    "        detected = count\n",
    "        optimal = point[:]\n",
    "        \n",
    "# VERY IMPORTANT OBSERVATION:\n",
    "# The method just implemented is error-proof in theory, but not on a computer: the same fraction can (and will) \n",
    "# be approximated by different floating point values on the machine. In our case, this means that\n",
    "# even if base-A1-A2 all lie on a plane, the angles base-A1 and base-A2 can be different in their last digit, and \n",
    "# would be added as different elements in the set. Now, if we had a map so big that THIS LITLE\n",
    "# DIFFERENCE between angles was comparable to the angular distance of two asteroids as seen from the base, \n",
    "# all this would be a problem: the resolution would be to low to tell if two asteroids are in fact on\n",
    "# the same line or not. However this is not our case, and that is why we used the 'round(, 7)' function \n",
    "# to keep only the first 7 digits  after the 0 ('7' is an arbitrary decision made after looking for some time \n",
    "# at the numerical values). This way we 'wash out' all the details and possible sources of error which\n",
    "# arise due to the way python approximate fractions with floating point values, and we can be sure that\n",
    "# we only add to the set actually different angles corresponding to not-in-line asteroids."
   ]
  },
  {
   "cell_type": "code",
   "execution_count": 106,
   "metadata": {
    "ExecuteTime": {
     "end_time": "2020-11-27T15:00:32.642094Z",
     "start_time": "2020-11-27T15:00:32.636622Z"
    }
   },
   "outputs": [
    {
     "name": "stdout",
     "output_type": "stream",
     "text": [
      "Maximum number of detected asteroids is 288 , from base asteroid  [17, 22]\n"
     ]
    }
   ],
   "source": [
    "# Here is the result\n",
    "print('Maximum number of detected asteroids is', detected, ', from base asteroid ', optimal)"
   ]
  },
  {
   "cell_type": "markdown",
   "metadata": {},
   "source": [
    "### Part 2: the Giant Laser"
   ]
  },
  {
   "cell_type": "code",
   "execution_count": 98,
   "metadata": {
    "ExecuteTime": {
     "end_time": "2020-11-27T14:07:26.391787Z",
     "start_time": "2020-11-27T14:07:26.380711Z"
    }
   },
   "outputs": [
    {
     "name": "stdout",
     "output_type": "stream",
     "text": [
      "288\n"
     ]
    }
   ],
   "source": [
    "# Since the asteroid in [17, 22] can directly see 288 other asteroids, it follows that the \n",
    "# 200th asteroid that will be vaporized is one of those who are visible from our base.\n",
    "# This is useful since, using the same method as before (taking advantage of the 'set()' method)\n",
    "# we can do\n",
    "base = optimal[:]\n",
    "# Again use set(), since it automatically handles equal elements\n",
    "angles = set()\n",
    "\n",
    "# Initialize set of all angles at which we can see an asteroid from our base.\n",
    "# Angles are identified again by corresponding sine and cosine values, this time we measure\n",
    "# them starting from the vertical axis\n",
    "for asteroid in coordinate_map:\n",
    "    \n",
    "    if asteroid == base:\n",
    "        continue\n",
    "    \n",
    "    else:\n",
    "        d = eucl_distance(base, asteroid)\n",
    "        sin = round((asteroid[0] - base[0])/d, 7)\n",
    "        cos = round((asteroid[1] - base[1])/d, 7)\n",
    "        # Create unique hashable that can be added to set\n",
    "        angles.add(str(sin)+'&'+str(cos))\n",
    "\n",
    "# Now that angles contain all the angles of the asteroids that can be detected from our base, \n",
    "# convert it back to list so that we can order it\n",
    "angles = [item.split('&') for item in angles]\n",
    "angles = [[float(item[0]), float(item[1])] for item in angles]\n",
    "# Check if we are loosing something\n",
    "print(len(angles))"
   ]
  },
  {
   "cell_type": "code",
   "execution_count": 101,
   "metadata": {
    "ExecuteTime": {
     "end_time": "2020-11-27T14:29:40.534668Z",
     "start_time": "2020-11-27T14:29:40.524516Z"
    }
   },
   "outputs": [
    {
     "name": "stdout",
     "output_type": "stream",
     "text": [
      "288\n",
      "200th on the VAPORIZING list is:  [-0.8778956, -0.4788521]\n"
     ]
    }
   ],
   "source": [
    "from operator import itemgetter\n",
    "\n",
    "# Now sorting is not trivial, as we would like to sort points in clockwise direction starting from \n",
    "# the North. MORE IMPORTNATLY, we must now take care of the fact that the coordinate system we \n",
    "# are using has the positive y-axis facing 'upwards' while the one that the exercise makes reference\n",
    "# to has the y-axis pointing 'downwards'. This was not a problem in part 1, since the total number of visible\n",
    "# asteroids is independent of this fact. However, the 'clockwise' specification of part 2 is clearly\n",
    "# affected by this choice. In practice, we must rotate counter-clockwise in our system.\n",
    "\n",
    "#We can do it this way: first separate the list in two pieces\n",
    "# positive sine half:\n",
    "positive_sine = [angle for angle in angles if angle[0] >= 0]\n",
    "# negative sine half\n",
    "negative_sine = [angle for angle in angles if angle[0] < 0]\n",
    "\n",
    "# This are still non-ordered list, but we can now sort them. In each of them, the cosine function\n",
    "# goes the full range from -1 to 1 (remember angles are here measured starting from the y-axis). \n",
    "# We can then order the positive sine part with cosine going from '1' to '1', as in\n",
    "positive_sine = sorted(positive_sine, key=itemgetter(1))\n",
    "# and the negative part by reversing the order (from '1' to '-1') and close the cycle\n",
    "negative_sine = sorted(negative_sine, key=itemgetter(1), reverse = True)\n",
    "\n",
    "# The list of sorted angles can now be constructed as\n",
    "sorted_angles = positive_sine + negative_sine\n",
    "\n",
    "# Check we have not lost any angle in the process \n",
    "print(len(sorted_angles))\n",
    "#The 200th element of the list should be given by\n",
    "print('200th on the VAPORIZING list is at angle: ', sorted_angles[199])"
   ]
  },
  {
   "cell_type": "code",
   "execution_count": 102,
   "metadata": {
    "ExecuteTime": {
     "end_time": "2020-11-27T14:35:16.643621Z",
     "start_time": "2020-11-27T14:35:16.631689Z"
    }
   },
   "outputs": [
    {
     "name": "stdout",
     "output_type": "stream",
     "text": [
      "200th on the VAPORIZING list is asteroid at:  [6, 16]\n",
      "Target value:  616\n"
     ]
    }
   ],
   "source": [
    "# The last effort is to find the actual asteroid (i.e. its coordinate).\n",
    "# Knowing the angle, we must be careful to select, of all asteroids that form said angle\n",
    "# with the base, the one which is also nearest to the base, since it will be the first to go.\n",
    "\n",
    "bet_on_this_one = []\n",
    "# Initialize a distance to a big initial value\n",
    "distance = 1000\n",
    "\n",
    "for asteroid in coordinate_map:\n",
    "    \n",
    "    if asteroid == base:\n",
    "        continue\n",
    "    \n",
    "    else:\n",
    "        d = eucl_distance(base, asteroid)\n",
    "        sin = round((asteroid[0] - base[0])/d, 7)\n",
    "        cos = round((asteroid[1] - base[1])/d, 7)\n",
    "        \n",
    "        # If current asteroid has sine and cosine values equals to the one we are looking for, \n",
    "        # and if its distance is also smaller than the current one, then update.\n",
    "        if [sin, cos] == sorted_angles[199] and d < distance:\n",
    "            bet_on_this_one = asteroid\n",
    "            distance = d\n",
    "\n",
    "            \n",
    "print('200th on the VAPORIZING list is asteroid at: ', bet_on_this_one)\n",
    "print('Target value: ',  bet_on_this_one[0]*100 + bet_on_this_one[1])"
   ]
  },
  {
   "cell_type": "code",
   "execution_count": null,
   "metadata": {},
   "outputs": [],
   "source": []
  }
 ],
 "metadata": {
  "kernelspec": {
   "display_name": "Python 3",
   "language": "python",
   "name": "python3"
  },
  "language_info": {
   "codemirror_mode": {
    "name": "ipython",
    "version": 3
   },
   "file_extension": ".py",
   "mimetype": "text/x-python",
   "name": "python",
   "nbconvert_exporter": "python",
   "pygments_lexer": "ipython3",
   "version": "3.6.9"
  }
 },
 "nbformat": 4,
 "nbformat_minor": 2
}
