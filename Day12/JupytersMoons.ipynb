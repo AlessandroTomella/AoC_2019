{
 "cells": [
  {
   "cell_type": "code",
   "execution_count": 147,
   "metadata": {
    "ExecuteTime": {
     "end_time": "2020-11-29T18:02:56.723896Z",
     "start_time": "2020-11-29T18:02:56.704464Z"
    }
   },
   "outputs": [],
   "source": [
    "import itertools as itools\n",
    "import re\n",
    "import numpy as np\n",
    "from mpl_toolkits.mplot3d import Axes3D  \n",
    "import matplotlib.pyplot as plt\n",
    "\n",
    "\n",
    "class Point3D:\n",
    "    \n",
    "    def __init__(self, vector = None):\n",
    "        \n",
    "        if vector is not None:\n",
    "            self.coord = np.array(vector)\n",
    "        else:\n",
    "            self.coord = np.array([0, 0, 0])\n",
    "            \n",
    "        return\n",
    "    \n",
    "    \n",
    "    def modulo(self):\n",
    "        \n",
    "        return sum(abs(coord) for coord in self.coord)\n",
    "    \n",
    "    \n",
    "class MoonObject:\n",
    "    \n",
    "    def __init__(self, position = None, velocity = None):\n",
    "        # position can be initialized by passing values when instantiating object\n",
    "        self.position = Point3D(position)\n",
    "        # velocities are instead always initialized as 0 in this first case\n",
    "        self.velocity = Point3D(velocity)\n",
    "        \n",
    "        return\n",
    "\n",
    "\n",
    "class NbodySystem:\n",
    "    \n",
    "    def __init__(self, bodies = None):\n",
    "        \n",
    "        if bodies is not None:\n",
    "            self.bodies = bodies\n",
    "        \n",
    "        else:\n",
    "            self.bodies = dict()\n",
    "            \n",
    "        return\n",
    "    \n",
    "    \n",
    "    def integration_step(self):\n",
    "            \n",
    "        for pair in itools.combinations(list(self.bodies), 2):\n",
    "            \n",
    "            body1 = self.bodies[pair[0]]\n",
    "            body2 = self.bodies[pair[1]]\n",
    "            \n",
    "            # Updating velocities\n",
    "            for i in range(3):\n",
    "                if body1.position.coord[i] > body2.position.coord[i]:\n",
    "                    body1.velocity.coord[i] -= 1\n",
    "                    body2.velocity.coord[i] += 1\n",
    "                elif body1.position.coord[i] < body2.position.coord[i]:\n",
    "                    body1.velocity.coord[i] += 1\n",
    "                    body2.velocity.coord[i] -= 1\n",
    "                    \n",
    "        # Updating position AFTER the update of velocities\n",
    "        for key in self.bodies:\n",
    "            self.bodies[key].position.coord += self.bodies[key].velocity.coord\n",
    "        \n",
    "\n",
    "        return\n",
    "    \n",
    "    \n",
    "    def total_energy(self):\n",
    "        \n",
    "        total = 0\n",
    "        \n",
    "        for key in self.bodies:\n",
    "            potential = self.bodies[key].position.modulo()\n",
    "            kinetic = self.bodies[key].velocity.modulo()\n",
    "            total += potential*kinetic\n",
    "            \n",
    "        return total\n",
    "    \n",
    "    \n",
    "    def print_system(self):\n",
    "        \n",
    "        for key in self.bodies:\n",
    "            body = self.bodies[key]\n",
    "            print(key, \"<\", body.position.coord,\" > --- <\", body.velocity.coord, \" >\")\n",
    "        \n",
    "        print(\"Total energy: \", self.total_energy())\n",
    "        print('\\n')\n",
    "        \n",
    "        return"
   ]
  },
  {
   "cell_type": "code",
   "execution_count": 148,
   "metadata": {
    "ExecuteTime": {
     "end_time": "2020-11-29T18:02:58.474017Z",
     "start_time": "2020-11-29T18:02:58.468200Z"
    }
   },
   "outputs": [
    {
     "name": "stdout",
     "output_type": "stream",
     "text": [
      "[[6, 10, 10], [-9, 3, 17], [9, -4, 14], [4, 14, 4]]\n"
     ]
    }
   ],
   "source": [
    "initial_positions = []\n",
    "with open('input.txt', 'r') as infile:\n",
    "    for line in infile:\n",
    "        if line == '\\n':\n",
    "            continue\n",
    "        else:\n",
    "            found = re.findall('-?[0-9]*', line) # <--- Look at this bad boy, I'm so proud!\n",
    "            \n",
    "            initial_positions.append([int(x) for x in found if x is not ''])\n",
    "            \n",
    "print(initial_positions)"
   ]
  },
  {
   "cell_type": "code",
   "execution_count": 149,
   "metadata": {
    "ExecuteTime": {
     "end_time": "2020-11-29T18:03:00.669267Z",
     "start_time": "2020-11-29T18:03:00.658900Z"
    }
   },
   "outputs": [
    {
     "name": "stdout",
     "output_type": "stream",
     "text": [
      "Io < [ 6 10 10]  > --- < [0 0 0]  >\n",
      "Europa < [-9  3 17]  > --- < [0 0 0]  >\n",
      "Ganymede < [ 9 -4 14]  > --- < [0 0 0]  >\n",
      "Callisto < [ 4 14  4]  > --- < [0 0 0]  >\n",
      "Total energy:  0\n",
      "\n",
      "\n"
     ]
    }
   ],
   "source": [
    "# Names of the moons\n",
    "moon_names = ['Io', 'Europa', 'Ganymede', 'Callisto']\n",
    "\n",
    "# Create dictionary to pass to NbodySystem __init__() function\n",
    "moon_dict = dict()\n",
    "for name, pos in zip(moon_names, initial_positions):\n",
    "    moon_dict[name] = MoonObject(position = pos)\n",
    "    \n",
    "# Initialize system\n",
    "moon_system = NbodySystem(moon_dict)\n",
    "moon_system.print_system()"
   ]
  },
  {
   "cell_type": "code",
   "execution_count": 150,
   "metadata": {
    "ExecuteTime": {
     "end_time": "2020-11-29T18:03:06.022290Z",
     "start_time": "2020-11-29T18:03:05.944186Z"
    }
   },
   "outputs": [
    {
     "name": "stdout",
     "output_type": "stream",
     "text": [
      "Io < [ 57 -19  -6]  > --- < [ 2 -3 14]  >\n",
      "Europa < [-13 -62  75]  > --- < [ 15 -18  -1]  >\n",
      "Ganymede < [ 21 133 -19]  > --- < [ 0 19 -3]  >\n",
      "Callisto < [-55 -29  -5]  > --- < [-17   2 -10]  >\n",
      "Total energy:  13045\n",
      "\n",
      "\n"
     ]
    }
   ],
   "source": [
    "# Counter for timesteps\n",
    "step_count = 0\n",
    "\n",
    "# Variable to save the paths of the moons. Used for plotting purposes later\n",
    "moons_path = np.zeros((4, 1000, 3))\n",
    "\n",
    "# Integration cycle\n",
    "while step_count <= 999:\n",
    "    \n",
    "    # Save current position of satellites\n",
    "    for i, key in enumerate(moon_system.bodies):\n",
    "        moons_path[i][step_count][:] = moon_system.bodies[key].position.coord\n",
    "    \n",
    "    # Integrate system for one step\n",
    "    moon_system.integration_step()\n",
    "    # Increase counter\n",
    "    step_count += 1\n",
    "    \n",
    "# Print information for system in last configuration\n",
    "moon_system.print_system()"
   ]
  },
  {
   "cell_type": "code",
   "execution_count": 146,
   "metadata": {
    "ExecuteTime": {
     "end_time": "2020-11-29T17:55:16.031560Z",
     "start_time": "2020-11-29T17:55:15.953107Z"
    }
   },
   "outputs": [
    {
     "name": "stdout",
     "output_type": "stream",
     "text": [
      "Using matplotlib backend: TkAgg\n"
     ]
    }
   ],
   "source": [
    "%matplotlib \n",
    "# Print trajectories for the first number of timesteps specified here. Set '-1' to print \n",
    "# whole trajectories\n",
    "timesteps = 50\n",
    "\n",
    "# Declare figure\n",
    "fig = plt.figure(figsize=(10, 10))\n",
    "ax = fig.add_subplot(111, projection='3d')\n",
    "\n",
    "# Plot the 4 trajectories\n",
    "for i, key in enumerate(moon_system.bodies):\n",
    "    ax.plot(moons_path[i,0:timesteps,0], moons_path[i,0:timesteps,1], moons_path[i,0:timesteps,2], label = key)\n",
    "\n",
    "plt.legend()\n",
    "plt.show()"
   ]
  },
  {
   "cell_type": "code",
   "execution_count": null,
   "metadata": {},
   "outputs": [],
   "source": []
  }
 ],
 "metadata": {
  "kernelspec": {
   "display_name": "Python 3",
   "language": "python",
   "name": "python3"
  },
  "language_info": {
   "codemirror_mode": {
    "name": "ipython",
    "version": 3
   },
   "file_extension": ".py",
   "mimetype": "text/x-python",
   "name": "python",
   "nbconvert_exporter": "python",
   "pygments_lexer": "ipython3",
   "version": "3.6.9"
  }
 },
 "nbformat": 4,
 "nbformat_minor": 2
}
