{
 "cells": [
  {
   "cell_type": "code",
   "execution_count": 12,
   "metadata": {
    "ExecuteTime": {
     "end_time": "2020-11-24T22:09:57.581897Z",
     "start_time": "2020-11-24T22:09:57.560480Z"
    }
   },
   "outputs": [
    {
     "name": "stdout",
     "output_type": "stream",
     "text": [
      "57 1064\n"
     ]
    }
   ],
   "source": [
    "import re\n",
    "# We have a 150 pixel image \n",
    "n_pix = 25*6\n",
    "# and a sequence of 15000 values (counted on terminal with '$wc -c input.txt', minus newlines) for those pixels, \n",
    "# which means we have\n",
    "n_layers = 15000/n_pix\n",
    "# layers, each with 150 pixels\n",
    "\n",
    "# By cycling over these layers we can find the solution to our problem\n",
    "\n",
    "with open(\"input.txt\", 'r') as infile:\n",
    "    encoded_image = infile.read().replace('\\n', '')\n",
    "\n",
    "encoded_image = [int(x) for x in list(encoded_image)]\n",
    "\n",
    "# global variable for counting\n",
    "count = 0\n",
    "# initialize the minimum number of zeros in a layer to the max value, 150, when each pixel is 0\n",
    "min_zeros = 150\n",
    "# this stores the value of (n°1 in layer)*(n°2 in layer)\n",
    "target_val = 0\n",
    "\n",
    "while count != len(encoded_image):\n",
    "\n",
    "    # reset variables\n",
    "    zeros_in_layer = 0\n",
    "    ones_in_layer = 0\n",
    "    \n",
    "    # cycle over layer\n",
    "    for i in range(n_pix):\n",
    "        \n",
    "        if encoded_image[count + i] == 0:\n",
    "            zeros_in_layer += 1 \n",
    "        elif encoded_image[count + i] == 1:\n",
    "            ones_in_layer += 1\n",
    "        \n",
    "    # increase layer counter   \n",
    "    count += n_pix\n",
    "    \n",
    "    # look for minimum and store value.\n",
    "    if zeros_in_layer < min_zeros:\n",
    "        min_zeros = zeros_in_layer\n",
    "        target_val = ones_in_layer*(n_pix - ones_in_layer - zeros_in_layer)\n",
    "        \n",
    "print(zeros_in_layer, target_val)"
   ]
  },
  {
   "cell_type": "markdown",
   "metadata": {},
   "source": [
    "### Rendering the Image"
   ]
  },
  {
   "cell_type": "code",
   "execution_count": 52,
   "metadata": {
    "ExecuteTime": {
     "end_time": "2020-11-24T22:44:24.140793Z",
     "start_time": "2020-11-24T22:44:24.127038Z"
    }
   },
   "outputs": [],
   "source": [
    "import matplotlib.pyplot as plt\n",
    "\n",
    "# Initialize all pixel value to transparent\n",
    "pixels_col = [2 for i in range(n_pix)]\n",
    "count = 0\n",
    "\n",
    "# Go through the encoded image in reverse order: this is easier in view of the fact that the first layer \n",
    "# is the one we want to render on the front.\n",
    "for value in reversed(encoded_image):\n",
    "    \n",
    "    # If value is transparent do nothing, else save the value to the pixel\n",
    "    if value == 2:\n",
    "        pass\n",
    "    else:\n",
    "        # the index in the pixel list is modulo 150\n",
    "        pixels_col[count%n_pix] = value\n",
    "    \n",
    "    count += 1 "
   ]
  },
  {
   "cell_type": "code",
   "execution_count": 59,
   "metadata": {
    "ExecuteTime": {
     "end_time": "2020-11-24T23:03:14.739899Z",
     "start_time": "2020-11-24T23:03:14.546010Z"
    }
   },
   "outputs": [
    {
     "data": {
      "text/plain": [
       "<matplotlib.collections.PathCollection at 0x7fe1d38863c8>"
      ]
     },
     "execution_count": 59,
     "metadata": {},
     "output_type": "execute_result"
    },
    {
     "data": {
      "image/png": "[encoded data removed]",
      "text/plain": [
       "<Figure size 360x72 with 1 Axes>"
      ]
     },
     "metadata": {
      "needs_background": "light"
     },
     "output_type": "display_data"
    }
   ],
   "source": [
    "plt.figure(figsize=(5, 1))\n",
    "# Now we have a pixel list which is in reverse order: the first pixel is the bottom right instead of top\n",
    "# left as it was in the encoded image. However to print the image this is not important. We decided to render\n",
    "# the image as a scatter plot. First we must assign each pixel a position in the plane: points on a grid \n",
    "# of size 25 times 6 will do the job. \n",
    "X = np.array([(24-i)%25 for i in range(n_pix)]) # (24, 23, 22, ... 0, 24, 23, ... 0)\n",
    "Y = np.array([int(i/25) for i in range(n_pix)]) # (0, 0, ... 0, 1, 1, ... 1, ... 5, 5)\n",
    "\n",
    "# The funny-looking way by which we initialized the x and y coordinates of the points has a simple\n",
    "# explanation: if the ORDER in which the pairs of (x,y) values appear mimic the ORDER of the pixel color list, \n",
    "# i.e. the position start from bottom-right (24, 0) all the way through (0, 5), than we can render the \n",
    "# image simply as\n",
    "plt.scatter(X, Y, c = pixels_col, s = 100, marker = 's')"
   ]
  },
  {
   "cell_type": "code",
   "execution_count": null,
   "metadata": {},
   "outputs": [],
   "source": [
    "PFCAK"
   ]
  }
 ],
 "metadata": {
  "kernelspec": {
   "display_name": "Python 3",
   "language": "python",
   "name": "python3"
  },
  "language_info": {
   "codemirror_mode": {
    "name": "ipython",
    "version": 3
   },
   "file_extension": ".py",
   "mimetype": "text/x-python",
   "name": "python",
   "nbconvert_exporter": "python",
   "pygments_lexer": "ipython3",
   "version": "3.6.9"
  }
 },
 "nbformat": 4,
 "nbformat_minor": 2
}
