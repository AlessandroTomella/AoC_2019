{
 "cells": [
  {
   "cell_type": "code",
   "execution_count": 1,
   "metadata": {
    "ExecuteTime": {
     "end_time": "2021-01-30T21:35:05.895624Z",
     "start_time": "2021-01-30T21:35:05.632852Z"
    }
   },
   "outputs": [],
   "source": [
    "from mymodules import intcode as itc\n",
    "import matplotlib.pyplot as plt\n",
    "import numpy as np"
   ]
  },
  {
   "cell_type": "code",
   "execution_count": 2,
   "metadata": {
    "ExecuteTime": {
     "end_time": "2021-01-30T21:35:07.289093Z",
     "start_time": "2021-01-30T21:35:06.683325Z"
    }
   },
   "outputs": [
    {
     "name": "stdout",
     "output_type": "stream",
     "text": [
      "Program is finished. Haulting.\n"
     ]
    },
    {
     "data": {
      "image/png": "[encoded data removed]",
      "text/plain": [
       "<Figure size 576x576 with 1 Axes>"
      ]
     },
     "metadata": {
      "needs_background": "light"
     },
     "output_type": "display_data"
    }
   ],
   "source": [
    "with open('input.txt', 'r') as infile:\n",
    "    strintcode = infile.read().replace('\\n', '').split(',')\n",
    "    \n",
    "intcode = [int(x) for x in strintcode]\n",
    "computer = itc.IntcodeComputer()\n",
    "computer.load_intcode(intcode)\n",
    "view = dict()\n",
    "x = 0\n",
    "y = 0\n",
    "\n",
    "while True:\n",
    "    # Running computer repeatedly with no input\n",
    "    output = computer.run()\n",
    "    if output == 'end':\n",
    "        break\n",
    "    \n",
    "    char = chr(output) \n",
    "    if char == '\\n':\n",
    "        y -= 1j\n",
    "        x = 0\n",
    "        continue\n",
    "        \n",
    "    view[x+y] = char\n",
    "    x += 1\n",
    "    \n",
    "\n",
    "# Plotting the view    \n",
    "fig = plt.figure(figsize=(8, 8))\n",
    "\n",
    "x = [z.real for z in view if view[z] == '.']\n",
    "y = [z.imag for z in view if view[z] == '.']\n",
    "plt.scatter(x, y, c='r', marker = '.')\n",
    "\n",
    "x = [z.real for z in view if view[z] == '#']\n",
    "y = [z.imag for z in view if view[z] == '#']\n",
    "plt.scatter(x, y, c='b', marker = 's')\n",
    "\n",
    "x = [z.real for z in view if view[z] == '^']\n",
    "y = [z.imag for z in view if view[z] == '^']\n",
    "plt.scatter(x, y, c='green', marker = '^')\n",
    "\n",
    "plt.show()"
   ]
  },
  {
   "cell_type": "code",
   "execution_count": 3,
   "metadata": {
    "ExecuteTime": {
     "end_time": "2021-01-30T21:35:09.174568Z",
     "start_time": "2021-01-30T21:35:09.167611Z"
    }
   },
   "outputs": [
    {
     "name": "stdout",
     "output_type": "stream",
     "text": [
      "There are  10 intersections, with alignment parameters that sum up to 2804.0\n"
     ]
    }
   ],
   "source": [
    "target = 0\n",
    "intersec = 0\n",
    "\n",
    "# Find all intersections\n",
    "for z in view:\n",
    "    # if the position is on the path\n",
    "    if view[z] == '#':\n",
    "        try:\n",
    "            up = view[z+1j]\n",
    "            down = view[z-1j]\n",
    "            left = view[z-1]\n",
    "            right = view[z+1]\n",
    "    \n",
    "        except:\n",
    "            continue\n",
    "            \n",
    "        # look up, down, left and right: if all positions are still on the path \n",
    "        # the current point is an intersection. Count and compute the alignment parameter\n",
    "        if up == '#' and down == '#' and left == '#' and right == '#':\n",
    "            intersec += 1\n",
    "            target += abs(z.real)*abs(z.imag)\n",
    "            \n",
    "print('There are ', intersec,'intersections, with alignment parameters that sum up to', target)"
   ]
  },
  {
   "cell_type": "markdown",
   "metadata": {},
   "source": [
    "### Part 2\n",
    "\n",
    "By looking at the image above we can simply spot a path that visits all the positions: thi is the path that obeys the simple rule \"Go as straight as you can\" and is realized by the following set of instructions."
   ]
  },
  {
   "cell_type": "code",
   "execution_count": 4,
   "metadata": {
    "ExecuteTime": {
     "end_time": "2021-01-30T21:35:11.368446Z",
     "start_time": "2021-01-30T21:35:11.360800Z"
    }
   },
   "outputs": [
    {
     "name": "stdout",
     "output_type": "stream",
     "text": [
      "['R', 8, 'L', 10, 'R', 8, 'R', 12, 'R', 8, 'L', 8, 'L', 12, 'R', 8, 'L', 10, 'R', 8, 'L', 12, 'L', 10, 'L', 8, 'R', 8, 'L', 10, 'R', 8, 'R', 12, 'R', 8, 'L', 8, 'L', 12, 'L', 12, 'L', 10, 'L', 8, 'L', 12, 'L', 10, 'L', 8, 'R', 8, 'L', 10, 'R', 8, 'R', 12, 'R', 8, 'L', 8, 'L', 12]\n"
     ]
    }
   ],
   "source": [
    "pos = [z for z in view if view[z] == '^'][-1]\n",
    "instructions = ['R']\n",
    "go_on = 1\n",
    "repeat = 0\n",
    "\n",
    "while True:\n",
    "    \n",
    "    if pos+go_on in view and view[pos+go_on] == '#':\n",
    "        repeat += 1\n",
    "        pos += go_on\n",
    "        \n",
    "    else:\n",
    "        instructions.append(repeat)\n",
    "    \n",
    "        if pos+go_on*1j in view and view[pos+go_on*1j] == '#':\n",
    "\n",
    "            go_on *= 1j\n",
    "            instructions.append('L')\n",
    "    \n",
    "        elif pos+go_on*(-1j) in view and view[pos+go_on*(-1j)] == '#':\n",
    "            go_on *= -1j\n",
    "            instructions.append('R')\n",
    "        \n",
    "        else:\n",
    "            break\n",
    "            \n",
    "        repeat = 1\n",
    "        pos += go_on\n",
    "\n",
    "print(instructions)    "
   ]
  },
  {
   "cell_type": "code",
   "execution_count": 5,
   "metadata": {
    "ExecuteTime": {
     "end_time": "2021-01-30T21:35:12.475129Z",
     "start_time": "2021-01-30T21:35:12.450637Z"
    }
   },
   "outputs": [
    {
     "name": "stdout",
     "output_type": "stream",
     "text": [
      "The main routine and functions in ASCII form are:\n",
      "MAIN: (length:  20 ) [65, 44, 66, 44, 65, 44, 67, 44, 65, 44, 66, 44, 67, 44, 67, 44, 65, 44, 66, 10]\n",
      "A: (length:  14 ) [82, 44, 56, 44, 76, 44, 54, 44, 52, 44, 82, 44, 56, 10]\n",
      "B: (length:  20 ) [82, 44, 54, 44, 54, 44, 82, 44, 56, 44, 76, 44, 56, 44, 76, 44, 54, 44, 54, 10]\n",
      "C: (length:  16 ) [76, 44, 54, 44, 54, 44, 76, 44, 54, 44, 52, 44, 76, 44, 56, 10]\n"
     ]
    }
   ],
   "source": [
    "# It isn't difficult, by looking at the previous list, to identify the following 3 'atomic' set of instruction,\n",
    "# by repeating which we can construct the whole list. The instructions are:\n",
    "# A) R8,L10,R8\n",
    "# B) R12, R8, L8, L12\n",
    "# C) L12, L10, L8\n",
    "#\n",
    "# in terms of these instructions the above list can be written as:\n",
    "# [A, B, A, C, A, B, C, C, A, B]\n",
    "#\n",
    "# We now translate all this information to in input for our intcode computer.\n",
    "r = ord('R')\n",
    "l = ord('L')\n",
    "a = ord('A')\n",
    "b = ord('B')\n",
    "c = ord('C')\n",
    "comma = ord(',')\n",
    "\n",
    "A = [r, comma, ord('8'), comma, l, comma, ord('6'), comma, ord('4'), comma, r, comma, ord('8'), 10]\n",
    "B = [r, comma, ord('6'), comma, ord('6'), comma, r, comma, ord('8'), comma, l, comma, ord('8'), \n",
    "     comma, l, comma, ord('6'), comma, ord('6'),  10]\n",
    "C = [l, comma, ord('6'), comma, ord('6'), comma, l, comma, ord('6'), comma, ord('4'), comma, l, \n",
    "     comma, ord('8'), 10]\n",
    "main = [a, comma, b, comma, a, comma, c, comma, a, comma, b, comma, c, comma, c, comma, a, comma, \n",
    "        b, 10]\n",
    "\n",
    "print('The main routine and functions in ASCII form are:')\n",
    "print('MAIN: (length: ', len(main),')',  main)\n",
    "print('A: (length: ', len(A),')',  A)\n",
    "print('B: (length: ', len(B),')',  B)\n",
    "print('C: (length: ', len(C),')',  C)"
   ]
  },
  {
   "cell_type": "code",
   "execution_count": 13,
   "metadata": {
    "ExecuteTime": {
     "end_time": "2021-01-30T21:41:47.011407Z",
     "start_time": "2021-01-30T21:41:46.531746Z"
    }
   },
   "outputs": [
    {
     "name": "stdout",
     "output_type": "stream",
     "text": [
      "^\n",
      "M\n",
      "a\n",
      "i\n",
      "n\n",
      ":\n",
      "F\n",
      "u\n",
      "n\n",
      "c\n",
      "t\n",
      "i\n",
      "o\n",
      "n\n",
      " \n",
      "A\n",
      ":\n",
      "F\n",
      "u\n",
      "n\n",
      "c\n",
      "t\n",
      "i\n",
      "o\n",
      "n\n",
      " \n",
      "B\n",
      ":\n",
      "F\n",
      "u\n",
      "n\n",
      "c\n",
      "t\n",
      "i\n",
      "o\n",
      "n\n",
      " \n",
      "C\n",
      ":\n",
      "C\n",
      "o\n",
      "n\n",
      "t\n",
      "i\n",
      "n\n",
      "u\n",
      "o\n",
      "u\n",
      "s\n",
      " \n",
      "v\n",
      "i\n",
      "d\n",
      "e\n",
      "o\n",
      " \n",
      "f\n",
      "e\n",
      "e\n",
      "d\n",
      "?\n",
      "<\n",
      "󋞕\n",
      "Program is finished. Haulting.\n",
      "Total collected: 833429\n"
     ]
    }
   ],
   "source": [
    "# We are now ready to run the robot. Two last details:\n",
    "# - Disabling video feed:\n",
    "video = [ord('n'), 10]\n",
    "# - Changing memory address 0 from value '1' to '2' to turn on the robot\n",
    "intcode[0] = 2\n",
    "\n",
    "# Reset computer state\n",
    "computer.load_intcode(intcode)\n",
    "\n",
    "# Full input of the program\n",
    "full_input = main + A + B + C + video\n",
    "\n",
    "while True:\n",
    "    output = computer.run(user_input=full_input)\n",
    "    \n",
    "    #print(chr(output) else '\\b')\n",
    "    if output == 'end':\n",
    "        break\n",
    "        \n",
    "    if (chr(output) != '.' and chr(output) != '#' and chr(output)!= '\\n'):\n",
    "        print(chr(output))   \n",
    "    x = output\n",
    "    \n",
    "print('Total collected:', x)"
   ]
  },
  {
   "cell_type": "code",
   "execution_count": null,
   "metadata": {},
   "outputs": [],
   "source": []
  }
 ],
 "metadata": {
  "kernelspec": {
   "display_name": "Python 3",
   "language": "python",
   "name": "python3"
  },
  "language_info": {
   "codemirror_mode": {
    "name": "ipython",
    "version": 3
   },
   "file_extension": ".py",
   "mimetype": "text/x-python",
   "name": "python",
   "nbconvert_exporter": "python",
   "pygments_lexer": "ipython3",
   "version": "3.6.9"
  }
 },
 "nbformat": 4,
 "nbformat_minor": 2
}
