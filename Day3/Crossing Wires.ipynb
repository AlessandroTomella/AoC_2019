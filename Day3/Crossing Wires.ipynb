{
 "cells": [
  {
   "cell_type": "code",
   "execution_count": 88,
   "metadata": {
    "ExecuteTime": {
     "end_time": "2020-11-19T15:56:17.450134Z",
     "start_time": "2020-11-19T15:56:17.415742Z"
    }
   },
   "outputs": [],
   "source": [
    "import numpy as np\n",
    "import matplotlib.pyplot as plt\n",
    "\n",
    "def to_cartesian(wirepath):\n",
    "    \n",
    "    # Declare cartesian list to store positions in cartesian coordinates\n",
    "    # starting from the origin (the central port)\n",
    "    cartesian = [[0, 0]]\n",
    "    \n",
    "    # Length of the path (intended here as number of corners, not physical distance)\n",
    "    length = len(wirepath)\n",
    "    \n",
    "    for i in range(1, length+1):\n",
    "        \n",
    "        # Split the instruction, e.g.: 'U123' -> ['U', '1', '2', '3']\n",
    "        a = list(wirepath[i-1])\n",
    "        \n",
    "        # First element is the direction to move in\n",
    "        direction = a[0]\n",
    "        \n",
    "        # Removing the character, the remaining information is an int that\n",
    "        # instructs on how much to move in the said direction\n",
    "        value = int(wirepath[i-1].replace(direction, ''))\n",
    "        \n",
    "        # Append to 'cartesian' the new cartesian coordinates resulting from moving\n",
    "        # from the last position following the instruction\n",
    "        if direction == 'U':\n",
    "            cartesian.append([cartesian[i-1][0], cartesian[i-1][1] + value])\n",
    "        elif direction == 'D':\n",
    "            cartesian.append([cartesian[i-1][0], cartesian[i-1][1] - value])\n",
    "        elif direction == 'R':\n",
    "            cartesian.append([cartesian[i-1][0] + value, cartesian[i-1][1]])\n",
    "        elif direction == 'L':\n",
    "            cartesian.append([cartesian[i-1][0] - value, cartesian[i-1][1]])\n",
    "      \n",
    "    # Return the new list created in this way\n",
    "    return cartesian\n",
    "\n",
    "# Function that returns a list of the intersection points of two given paths\n",
    "# It does so by using some conditions on the coordinates of the point which intersect.\n",
    "# Note that this method:\n",
    "#    - works only for paths that move parallel to the axes, as is the case for this problem\n",
    "#    - works also in the continuum case, i.e. points with float coordinates\n",
    "#    - does not count points in which the two paths touch but don't cross, e.g. '><'\n",
    "#      does not count as an intersection\n",
    "def find_crosses(path1, path2):\n",
    "    \n",
    "    crosses = [[0, 0]]\n",
    "    \n",
    "    # cycle over path1's elements\n",
    "    for i in range(len(path1)-1):\n",
    "    \n",
    "        # Two subsequent points are connected either vertically\n",
    "        # or horizontally. We use the ind variable to store this\n",
    "        # information.\n",
    "        if path1[i][0] == path1[i+1][0]:\n",
    "            ind = 0 # connected vertically\n",
    "        else:\n",
    "            ind = 1 # conncted horizontally\n",
    "        \n",
    "        # cycle over path2\n",
    "        for j in range(len(path2)-1):\n",
    "            \n",
    "            # find two points which are a) connected orthogonally with respect to the\n",
    "            # points in path1 and b) satisfy some conditions on the coordinates\n",
    "            # to ensure the paths cross. In particular if we have the following intersection\n",
    "            #        C\n",
    "            #        |\n",
    "            #  A --------- B\n",
    "            #        |\n",
    "            #        D\n",
    "            #\n",
    "            # the coordinates must satisfy :\n",
    "            #      x_A < x_C = x_D < x_B\n",
    "            #      y_D < y_A = y_B < y_C\n",
    "            \n",
    "            if (path2[j][ind-1] == path2[j+1][ind-1] and \n",
    "            min(path2[j][ind], path2[j+1][ind]) < path1[i][ind] and \n",
    "            max(path2[j][ind], path2[j+1][ind]) > path1[i][ind] and \n",
    "            min(path1[i][ind-1], path1[i+1][ind-1]) < path2[j][ind-1] and \n",
    "            max(path1[i][ind-1], path1[i+1][ind-1]) > path2[j][ind-1]) :\n",
    "                \n",
    "                # Save coordinates of cross point. With the previous picture in mind\n",
    "                # these would be (x_C, y_A)=(x_D, y_B)\n",
    "                if ind == 0:\n",
    "                    crosses.append([path1[i][0], path2[j][1]])\n",
    "                else :\n",
    "                    crosses.append([path2[j][0], path1[i][1]])\n",
    "    \n",
    "    # Return the list of intersection points' coordinates\n",
    "    return crosses\n",
    "     \n",
    "    \n",
    "# This function calculates the Manhattan distance of a point\n",
    "# from the origini of the coordinate grid\n",
    "def Manhattan(point):\n",
    "    \n",
    "    return abs(point[0]) + abs(point[1])\n",
    "\n",
    "\n",
    "def wire_length(wirepath):\n",
    "    \n",
    "    prev = np.array([0, 0])\n",
    "    distance = 0\n",
    "    \n",
    "    for point in wirepath:\n",
    "        diff = point - prev\n",
    "        distance += abs(diff[0]) + abs(diff[1])\n",
    "        prev = point\n",
    "        \n",
    "    return distance"
   ]
  },
  {
   "cell_type": "code",
   "execution_count": 89,
   "metadata": {
    "ExecuteTime": {
     "end_time": "2020-11-19T15:56:19.966403Z",
     "start_time": "2020-11-19T15:56:19.962641Z"
    }
   },
   "outputs": [],
   "source": [
    "with open(\"input.txt\", 'r') as infile:\n",
    "    \n",
    "    wire_1 = infile.readline().replace('\\n', '').split(',')\n",
    "    wire_2 = infile.readline().replace('\\n', '').split(',')"
   ]
  },
  {
   "cell_type": "code",
   "execution_count": 90,
   "metadata": {
    "ExecuteTime": {
     "end_time": "2020-11-19T15:56:22.559420Z",
     "start_time": "2020-11-19T15:56:22.142960Z"
    }
   },
   "outputs": [
    {
     "data": {
      "image/png": "[encoded data removed]",
      "text/plain": [
       "<Figure size 720x720 with 1 Axes>"
      ]
     },
     "metadata": {
      "needs_background": "light"
     },
     "output_type": "display_data"
    }
   ],
   "source": [
    "# Set the figure\n",
    "plt.figure(figsize=(10,10))\n",
    "\n",
    "# Converting wirepaths to cartesian form\n",
    "wire_1_cart = np.array(to_cartesian(wire_1))\n",
    "wire_2_cart = np.array(to_cartesian(wire_2))\n",
    "\n",
    "# Plot the 2 paths\n",
    "plt.scatter(0, 0, c='black', s = 50) # Show origin\n",
    "plt.plot(wire_1_cart[:, 0], wire_1_cart[:, 1], c = 'r')\n",
    "plt.plot(wire_2_cart[:, 0], wire_2_cart[:, 1], c = 'g')\n",
    "plt.grid(True)\n",
    "plt.title(\"### The path of two wires\")\n",
    "plt.show()"
   ]
  },
  {
   "cell_type": "code",
   "execution_count": 91,
   "metadata": {
    "ExecuteTime": {
     "end_time": "2020-11-19T15:56:25.122980Z",
     "start_time": "2020-11-19T15:56:24.998549Z"
    }
   },
   "outputs": [
    {
     "name": "stdout",
     "output_type": "stream",
     "text": [
      "40 1225 [-1059   166] 41\n"
     ]
    }
   ],
   "source": [
    "# Find the set of intersection points\n",
    "crosses = np.array(find_crosses(wire_1_cart, wire_2_cart))\n",
    "\n",
    "# Find nearest intersection point to the origin\n",
    "nearest_index = 1\n",
    "nearest = Manhattan(crosses[1])\n",
    "dist = 0\n",
    "for i in range(2, len(crosses)):\n",
    "    dist = Manhattan(crosses[i])\n",
    "    if dist < nearest:\n",
    "        nearest = dist\n",
    "        nearest_index = i\n",
    "        \n",
    "print(nearest_index, nearest, crosses[nearest_index], len(crosses))"
   ]
  },
  {
   "cell_type": "markdown",
   "metadata": {
    "ExecuteTime": {
     "end_time": "2020-11-18T23:48:11.657462Z",
     "start_time": "2020-11-18T23:48:11.651387Z"
    }
   },
   "source": [
    "### The other way"
   ]
  },
  {
   "cell_type": "code",
   "execution_count": 92,
   "metadata": {
    "ExecuteTime": {
     "end_time": "2020-11-19T15:56:28.622426Z",
     "start_time": "2020-11-19T15:56:28.615133Z"
    }
   },
   "outputs": [
    {
     "name": "stdout",
     "output_type": "stream",
     "text": [
      "147638  compared to the actual  302\n",
      "and\n",
      "150424  compared to the actual  302\n"
     ]
    }
   ],
   "source": [
    "\n",
    "# As they are right now, the variables 'wire_i_cart' only contain the corners of the wire's path, \n",
    "# i.e. the points at which the wire changes direction. This implies that intersection points \n",
    "# never explicitly appear in those variables because they occur in between those points.\n",
    "\n",
    "# Another way to solve the problem would then be to PAD the various paths so that they contain ALL the points\n",
    "# by which the wire passes. For example instead of being [...[50, 3], [46, 3], ...] the variable will\n",
    "# store [...[50, 3], [49, 3], [48, 3], [47, 3], [46, 3], ...]. \n",
    "# Obviously, note how by 'all the points' we actually mean all the ones on the integer grid, but they are \n",
    "# enough for this context in which everything is running on integers.\n",
    "\n",
    "# Before proceding however, we stress that this operation will, given the numbers we are dealing with, \n",
    "# enlarge the dimension of the wire_i_cart variables quite a few, in fact if we calculate the total length\n",
    "# of the paths, we will know exactly how many points will the variable store. These are:\n",
    "\n",
    "print(wire_length(wire_1_cart), \" compared to the actual \", len(wire_1_cart))\n",
    "print(\"and\")\n",
    "print(wire_length(wire_2_cart), \" compared to the actual \", len(wire_2_cart))"
   ]
  },
  {
   "cell_type": "code",
   "execution_count": 93,
   "metadata": {
    "ExecuteTime": {
     "end_time": "2020-11-19T15:56:31.141285Z",
     "start_time": "2020-11-19T15:56:31.130108Z"
    }
   },
   "outputs": [],
   "source": [
    "# With this in mind, the easiest way to proceed is to pad the initial set of instruction, since\n",
    "# this can easily be done as\n",
    "import re\n",
    "\n",
    "# Function that fills instruction lists into its atomic instructions\n",
    "def fill_instruction_list(instr_list):\n",
    "    \n",
    "    filled = []\n",
    "    \n",
    "    for instruction in instr_list:\n",
    "        direction = re.findall('[A-Z]', instruction)[0]\n",
    "        value = int(re.findall('[0-9]+', instruction)[0])\n",
    "    \n",
    "        for i in range(value):\n",
    "            # Move 1 step in the specified direction\n",
    "            filled.append(direction+'1')\n",
    "    \n",
    "    return filled\n",
    "\n",
    "# Function that creates a unique hash string from a pair of cartesia points as:\n",
    "# (12, 34) --> x12y34\n",
    "def cartesian_hash(cart_list, option = 0):\n",
    "\n",
    "    hashed = []\n",
    "    \n",
    "    if option == 'r':\n",
    "        \n",
    "        for item in cart_list:\n",
    "            elem = list(item.replace('x', '').split('y'))\n",
    "            int_pair = [int(x) for x in elem]\n",
    "            hashed.append(int_pair)\n",
    "    else:\n",
    "        \n",
    "        for item in cart_list:\n",
    "            elem = 'x'+str(item[0])+'y'+str(item[1])\n",
    "            hashed.append(elem)\n",
    "    \n",
    "    return hashed\n",
    "    "
   ]
  },
  {
   "cell_type": "code",
   "execution_count": 94,
   "metadata": {
    "ExecuteTime": {
     "end_time": "2020-11-19T15:56:34.093156Z",
     "start_time": "2020-11-19T15:56:33.551837Z"
    }
   },
   "outputs": [],
   "source": [
    "# Writing the extended instruction paths in cartesian form           \n",
    "wire_1_ext = to_cartesian(fill_instruction_list(wire_1))\n",
    "wire_2_ext = to_cartesian(fill_instruction_list(wire_2))"
   ]
  },
  {
   "cell_type": "code",
   "execution_count": 95,
   "metadata": {
    "ExecuteTime": {
     "end_time": "2020-11-19T15:56:36.557475Z",
     "start_time": "2020-11-19T15:56:36.321733Z"
    }
   },
   "outputs": [],
   "source": [
    "# Now finding the intersection points should be as easy as doing a nested 'for' loop that search for points\n",
    "# which appeaer in both lists, or even better using 'x in list' construct. However, given the sizes of the \n",
    "# two lists (see before), this comparsion would be very time consuming!\n",
    "\n",
    "# Fortunately we can convert the lists to SETS, using the set() method. The advantage of sets is that the \n",
    "# operations of are faster. The disadvantage is that element are not indexed in a set, so if we care about\n",
    "# the index, this must be find in another way. For now we only need the common points, i.e. the intersection \n",
    "# of the two sets. \n",
    "# Before converting our lists to sets however we must make the elements of the lists hashable, \n",
    "# so we must convert the pair [X, Y] into an hashable such as a string. This conversion is given by the\n",
    "# hash_list method implemented above.\n",
    "\n",
    "# Initialize the two sets\n",
    "wire_1_set = set(cartesian_hash(wire_1_ext))\n",
    "wire_2_set = set(cartesian_hash(wire_2_ext))\n"
   ]
  },
  {
   "cell_type": "code",
   "execution_count": 96,
   "metadata": {
    "ExecuteTime": {
     "end_time": "2020-11-19T15:56:38.960536Z",
     "start_time": "2020-11-19T15:56:38.922802Z"
    }
   },
   "outputs": [],
   "source": [
    "# Find the common points to the two sets: these are the intersection of the wires\n",
    "\n",
    "set_crosses = []\n",
    "\n",
    "for point in set_1:\n",
    "    if point in set_2:\n",
    "        set_crosses.append(point)\n",
    "    \n",
    "# We must also convert back to the cartesian form from the hashed form\n",
    "new_crosses = cartesian_hash(set_crosses, 'r')"
   ]
  },
  {
   "cell_type": "code",
   "execution_count": 97,
   "metadata": {
    "ExecuteTime": {
     "end_time": "2020-11-19T15:56:41.720287Z",
     "start_time": "2020-11-19T15:56:41.710857Z"
    }
   },
   "outputs": [
    {
     "name": "stdout",
     "output_type": "stream",
     "text": [
      "40 1225 [-1059   166] 41\n"
     ]
    }
   ],
   "source": [
    "# Again, we can find now the nearest point to the central port as\n",
    "new_crosses = np.array(new_crosses)\n",
    "\n",
    "nearest_index = 1\n",
    "nearest = Manhattan(crosses[1])\n",
    "\n",
    "for i in range(2, len(crosses)):\n",
    "    dist = Manhattan(crosses[i])\n",
    "    if dist < nearest:\n",
    "        nearest = dist\n",
    "        nearest_index = i\n",
    "        \n",
    "print(nearest_index, nearest, crosses[nearest_index], len(crosses))"
   ]
  },
  {
   "cell_type": "code",
   "execution_count": null,
   "metadata": {},
   "outputs": [],
   "source": []
  }
 ],
 "metadata": {
  "kernelspec": {
   "display_name": "Python 3",
   "language": "python",
   "name": "python3"
  },
  "language_info": {
   "codemirror_mode": {
    "name": "ipython",
    "version": 3
   },
   "file_extension": ".py",
   "mimetype": "text/x-python",
   "name": "python",
   "nbconvert_exporter": "python",
   "pygments_lexer": "ipython3",
   "version": "3.6.9"
  }
 },
 "nbformat": 4,
 "nbformat_minor": 2
}
