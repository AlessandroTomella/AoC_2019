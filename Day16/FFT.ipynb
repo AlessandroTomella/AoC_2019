{
 "cells": [
  {
   "cell_type": "code",
   "execution_count": 1,
   "metadata": {
    "ExecuteTime": {
     "end_time": "2021-01-30T20:58:37.469456Z",
     "start_time": "2021-01-30T20:58:37.457176Z"
    }
   },
   "outputs": [],
   "source": [
    "# The idea for the exercise was to create a function that given an input pattern\n",
    "# corresponding to the appropriate pattern for calculating the n-th entry of the signal, \n",
    "# updates it to the appropriate pattern for entry n+1.\n",
    "# The offset and base pattern itself are provided inside the function.\n",
    "# The function receives the old pattern, the index of the current signal entry (entry n+1 above),\n",
    "# and the length of the signal\n",
    "def update_pattern(pattern, output_index,  length):\n",
    "    \n",
    "    base_pattern = [0, 1, 0, -1]\n",
    "    offset = 1\n",
    "    \n",
    "    # If calculating first entry, repeat the pattern x times and keep only\n",
    "    # relevant part (from offset to length of signal)\n",
    "    if output_index == 0:\n",
    "        r = base_pattern*length\n",
    "        pattern[:] = r[offset:length+1]\n",
    "        return pattern\n",
    "    \n",
    "    else:\n",
    "        pattern.insert(0, 0)\n",
    "        \n",
    "        \n",
    "        for i in range(length):\n",
    "            # Get element from the base pattern\n",
    "            elem = base_pattern[(i+1)%4]\n",
    "            # Get index to insert value (this was kinda found with trial and error...)\n",
    "            index = output_index*(2+i) + i\n",
    "            # Break if we are out of range\n",
    "            if index > length:\n",
    "                break\n",
    "            pattern.insert(index, elem)\n",
    "            \n",
    "        # pop elements from pattern until it is of the right length\n",
    "        while len(pattern) > length:\n",
    "            pattern.pop()\n",
    "        \n",
    "        return pattern"
   ]
  },
  {
   "cell_type": "code",
   "execution_count": 2,
   "metadata": {
    "ExecuteTime": {
     "end_time": "2021-01-30T20:58:43.139787Z",
     "start_time": "2021-01-30T20:58:39.174663Z"
    }
   },
   "outputs": [
    {
     "name": "stdout",
     "output_type": "stream",
     "text": [
      "[7, 4, 3, 6, 9, 0, 3, 3]\n"
     ]
    }
   ],
   "source": [
    "with open('input.txt', 'r') as infile:                                    \n",
    "    raw_signal = list(infile.read().replace('\\n', ''))\n",
    "\n",
    "\n",
    "received = list([int(num) for num in raw_signal])\n",
    "signal_length = len(received)\n",
    "signal = received\n",
    "phases = 100\n",
    "pattern = []\n",
    "\n",
    "for repeat in range(phases):\n",
    "    \n",
    "    sig_output = []\n",
    "    for i in range(signal_length):\n",
    "        # Update pattern\n",
    "        pattern = update_pattern(pattern, i, signal_length)\n",
    "        # Calculate corresponding output \n",
    "        output = int(str(sum([pattern[j]*signal[j] for j in range(signal_length)]))[-1])\n",
    "        # Append to result\n",
    "        sig_output.append(output)\n",
    "\n",
    "    signal = sig_output\n",
    "    \n",
    "print(sig_output[:8])"
   ]
  },
  {
   "cell_type": "markdown",
   "metadata": {},
   "source": [
    "### Part 2"
   ]
  },
  {
   "cell_type": "code",
   "execution_count": 35,
   "metadata": {
    "ExecuteTime": {
     "end_time": "2020-12-26T16:54:18.447128Z",
     "start_time": "2020-12-26T16:54:18.387547Z"
    }
   },
   "outputs": [
    {
     "name": "stdout",
     "output_type": "stream",
     "text": [
      "The length ofthe input signal is 6500000\n",
      "The final message offset is given by the first 7 digits of the input signal, i.e.: 5976733\n"
     ]
    }
   ],
   "source": [
    "# Repeating the input ten thousands times\n",
    "full_message = raw_signal*10000\n",
    "\n",
    "print('The length ofthe input signal is',len(full_message))\n",
    "print('The final message offset is given by the first 7 digits of the input signal, i.e.:', ''.join(raw_signal[:7]))"
   ]
  },
  {
   "cell_type": "markdown",
   "metadata": {},
   "source": [
    "With these two information we can see that there is an easy way into the solution. Here's how. \n",
    "\n",
    "Let's first take as an example an input like '1234567', and draw a table that represent the pattern for calculating each output in our procedure. We forget about the offset for now.\n",
    "\n",
    "| digit index | 1 | 2 | 3 | 4 | 5 | 6 | 7 |\n",
    "| :- |:---|:---|:---|:---|:---|:---|:---|\n",
    "| $\\textbf{0}$ | 1 | 0 | -1 | 0 | 1 | 0 | -1 |\n",
    "| $\\textbf{1}$ | 0 | 1 | 1 | 0 | 0 | 1 | 1 |\n",
    "| $\\textbf{2}$ | 0 | 0 | 1 | 1 | 1 | 0 | 0 |\n",
    "| $\\textbf{3}$ | 0 | 0 | 0 | 1 | 1 | 1 | 1 |\n",
    "| $\\textbf{4}$ | 0 | 0 | 0 | 0 | 1 | 1 | 1 |\n",
    "| $\\textbf{5}$ | 0 | 0 | 0 | 0 | 0 | 1 | 1 |\n",
    "| $\\textbf{6}$ | 0 | 0 | 0 | 0 | 0 | 0 | 1 |\n",
    "\n",
    "As we can see the $\\textbf{last}$ digit will always remain the same, the second-to-last will be just given by the sum of the last 2 digits (and then taking the 10's digit), and so on until we reach the middle-position digit. If we work only the second half of the signal, the pattern is simpler than the full one `[0, 1, 0, -1]`.\n",
    "\n",
    "In our case, the output signal offset (given by the input signal first 7 digits) is 5976733 and it is well above the 'midpoint' of the signal which has 6500000 digits. This means that we can restric our signal to a relevant part that starts at the first digit after the offset and ends at the end of the message. The pattern corresponding to this first digit is made of only $1$s, so it is basically the $\\textbf{sum all the elements}$ of this modified signal. The pattern for the second digit is the same but starts with a zero, so it is the sum minus the previous digit in the signal, and so forth for the other digits. By operating in reverse order we avoid having to sum the elements just for subtracting them after.\n",
    "\n",
    "The following code runs in about 40 seconds.\n"
   ]
  },
  {
   "cell_type": "code",
   "execution_count": 36,
   "metadata": {
    "ExecuteTime": {
     "end_time": "2020-12-26T16:55:06.755633Z",
     "start_time": "2020-12-26T16:54:25.803702Z"
    }
   },
   "outputs": [
    {
     "name": "stdout",
     "output_type": "stream",
     "text": [
      "The final message is 19903864\n"
     ]
    }
   ],
   "source": [
    "offset = int(''.join(raw_signal[:7]))\n",
    "# Keeping only digits after offset, in reverse order\n",
    "relevant_signal = [int(x) for x in reversed(full_message[offset:])]\n",
    "\n",
    "for repeat in range(phases):\n",
    "    \n",
    "    output = []\n",
    "    tot_sum = 0\n",
    "\n",
    "    for item in relevant_signal:\n",
    "        tot_sum += item\n",
    "        new_output = int(str(tot_sum)[-1])\n",
    "        output.append(new_output)\n",
    "    \n",
    "    relevant_signal = output\n",
    "    \n",
    "print('The final message is', ''.join([str(x) for x in reversed(relevant_signal[-8:])])) #78725270"
   ]
  },
  {
   "cell_type": "code",
   "execution_count": null,
   "metadata": {},
   "outputs": [],
   "source": []
  }
 ],
 "metadata": {
  "kernelspec": {
   "display_name": "Python 3",
   "language": "python",
   "name": "python3"
  },
  "language_info": {
   "codemirror_mode": {
    "name": "ipython",
    "version": 3
   },
   "file_extension": ".py",
   "mimetype": "text/x-python",
   "name": "python",
   "nbconvert_exporter": "python",
   "pygments_lexer": "ipython3",
   "version": "3.6.9"
  }
 },
 "nbformat": 4,
 "nbformat_minor": 2
}
