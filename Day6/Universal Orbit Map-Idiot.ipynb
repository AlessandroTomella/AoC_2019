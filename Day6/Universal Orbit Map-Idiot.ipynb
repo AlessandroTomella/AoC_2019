{
 "cells": [
  {
   "cell_type": "code",
   "execution_count": 2,
   "metadata": {
    "ExecuteTime": {
     "end_time": "2020-11-22T00:02:44.768474Z",
     "start_time": "2020-11-22T00:02:44.379781Z"
    }
   },
   "outputs": [
    {
     "name": "stdout",
     "output_type": "stream",
     "text": [
      "100 / 1036\n",
      "200 / 1036\n",
      "300 / 1036\n",
      "400 / 1036\n",
      "500 / 1036\n",
      "600 / 1036\n",
      "700 / 1036\n",
      "800 / 1036\n",
      "900 / 1036\n",
      "1000 / 1036\n",
      "2798\n"
     ]
    }
   ],
   "source": [
    "#import copy as cp\n",
    "\n",
    "catalogue = []\n",
    "#Umap = []\n",
    "with open('input.txt', 'r') as infile:\n",
    "    for line in infile:\n",
    "        if line != '\\n':\n",
    "            catalogue.append(line.replace('\\n', '').replace(')', ''))\n",
    "            #catalogue.append('d')\n",
    "#print(catalogue)\n",
    "Umap = catalogue[:]\n",
    "\n",
    "# This is just for printing something during the loop\n",
    "count = 1\n",
    "\n",
    "# Now the idea to create the Universal Map. Since the sortalogue is ordered, to discover all indirect \n",
    "# orbits we can start from its first item and check all other elements which\n",
    "for item in catalogue:\n",
    "\n",
    "    if count%100 == 0:\n",
    "        print(count, \"/\", len(catalogue)) \n",
    "    count+= 1\n",
    "    \n",
    "    for link in Umap:\n",
    "        if item[0:3] == link[3:6]:\n",
    "            Umap.append(link[0:3] + item[3:6] +'i')\n",
    "\n",
    "print(len(Umap))"
   ]
  },
  {
   "cell_type": "code",
   "execution_count": 85,
   "metadata": {
    "ExecuteTime": {
     "end_time": "2020-11-21T22:56:13.735302Z",
     "start_time": "2020-11-21T22:41:34.314675Z"
    }
   },
   "outputs": [
    {
     "name": "stdout",
     "output_type": "stream",
     "text": [
      "2798\n",
      "4856\n",
      "6959\n",
      "9078\n",
      "11224\n",
      "13375\n",
      "15479\n",
      "17598\n",
      "19659\n",
      "21759\n",
      "23741\n",
      "25766\n",
      "27710\n",
      "29587\n",
      "31424\n",
      "33256\n",
      "35043\n",
      "36794\n",
      "38471\n",
      "40082\n",
      "41671\n",
      "43303\n",
      "44933\n",
      "46576\n",
      "48171\n",
      "49742\n",
      "51331\n",
      "52932\n",
      "54513\n",
      "56111\n",
      "57720\n",
      "59297\n",
      "60878\n",
      "62438\n",
      "63970\n",
      "65514\n",
      "67068\n",
      "68617\n",
      "70171\n",
      "71675\n",
      "73163\n",
      "74588\n",
      "75977\n",
      "77304\n",
      "78651\n",
      "80010\n",
      "81354\n",
      "82705\n",
      "84073\n",
      "85417\n",
      "86754\n",
      "88117\n",
      "89465\n",
      "90804\n",
      "92158\n",
      "93498\n",
      "94855\n",
      "96200\n",
      "97554\n",
      "98910\n",
      "100273\n",
      "101612\n"
     ]
    },
    {
     "ename": "KeyboardInterrupt",
     "evalue": "",
     "output_type": "error",
     "traceback": [
      "\u001b[0;31m---------------------------------------------------------------------------\u001b[0m",
      "\u001b[0;31mKeyboardInterrupt\u001b[0m                         Traceback (most recent call last)",
      "\u001b[0;32m<ipython-input-85-4895931c5ccb>\u001b[0m in \u001b[0;36m<module>\u001b[0;34m\u001b[0m\n\u001b[1;32m     16\u001b[0m             \u001b[0;31m#print(link)\u001b[0m\u001b[0;34m\u001b[0m\u001b[0;34m\u001b[0m\u001b[0;34m\u001b[0m\u001b[0m\n\u001b[1;32m     17\u001b[0m             \u001b[0;31m#print(entry)\u001b[0m\u001b[0;34m\u001b[0m\u001b[0;34m\u001b[0m\u001b[0;34m\u001b[0m\u001b[0m\n\u001b[0;32m---> 18\u001b[0;31m             \u001b[0;32mif\u001b[0m \u001b[0mitem\u001b[0m\u001b[0;34m[\u001b[0m\u001b[0;36m0\u001b[0m\u001b[0;34m:\u001b[0m\u001b[0;36m3\u001b[0m\u001b[0;34m]\u001b[0m \u001b[0;34m==\u001b[0m \u001b[0mlink\u001b[0m\u001b[0;34m[\u001b[0m\u001b[0;36m3\u001b[0m\u001b[0;34m:\u001b[0m\u001b[0;36m6\u001b[0m\u001b[0;34m]\u001b[0m\u001b[0;34m:\u001b[0m\u001b[0;34m\u001b[0m\u001b[0;34m\u001b[0m\u001b[0m\n\u001b[0m\u001b[1;32m     19\u001b[0m                 \u001b[0mindirect\u001b[0m \u001b[0;34m=\u001b[0m \u001b[0mlink\u001b[0m\u001b[0;34m[\u001b[0m\u001b[0;36m0\u001b[0m\u001b[0;34m:\u001b[0m\u001b[0;36m3\u001b[0m\u001b[0;34m]\u001b[0m\u001b[0;34m+\u001b[0m\u001b[0mitem\u001b[0m\u001b[0;34m[\u001b[0m\u001b[0;36m3\u001b[0m\u001b[0;34m:\u001b[0m\u001b[0;36m6\u001b[0m\u001b[0;34m]\u001b[0m\u001b[0;34m+\u001b[0m\u001b[0;34m'i'\u001b[0m\u001b[0;34m\u001b[0m\u001b[0;34m\u001b[0m\u001b[0m\n\u001b[1;32m     20\u001b[0m                 \u001b[0;32mif\u001b[0m \u001b[0mindirect\u001b[0m \u001b[0;32mnot\u001b[0m \u001b[0;32min\u001b[0m \u001b[0mUmap\u001b[0m\u001b[0;34m:\u001b[0m\u001b[0;34m\u001b[0m\u001b[0;34m\u001b[0m\u001b[0m\n",
      "\u001b[0;31mKeyboardInterrupt\u001b[0m: "
     ]
    }
   ],
   "source": [
    "complete = False\n",
    "Umap = catalogue[:]\n",
    "Umap = {item + 'd' for item in catalogue}\n",
    "\n",
    "#print(catalogue, Umap)\n",
    "#new_additions = len(Umap)\n",
    "while not complete :\n",
    "    \n",
    "    complete = True\n",
    "    \n",
    "    for item in catalogue:\n",
    "        \n",
    "    \n",
    "        temp = set()\n",
    "        for link in Umap:\n",
    "            #print(link)\n",
    "            #print(entry)\n",
    "            if item[0:3] == link[3:6]:\n",
    "                indirect = link[0:3]+item[3:6]+'i'\n",
    "                if indirect not in Umap:\n",
    "                    complete = False\n",
    "                    temp.add(indirect)\n",
    "                    #new_additions += 1\n",
    "        \n",
    "        for t in temp:\n",
    "            Umap.add(t)\n",
    "        \n",
    "    print(len(Umap))        \n",
    "    \n",
    "        \n",
    "len(Umap)"
   ]
  },
  {
   "cell_type": "code",
   "execution_count": 44,
   "metadata": {
    "ExecuteTime": {
     "end_time": "2020-11-21T18:25:37.475260Z",
     "start_time": "2020-11-21T18:25:37.470643Z"
    }
   },
   "outputs": [
    {
     "name": "stdout",
     "output_type": "stream",
     "text": [
      "64403\n"
     ]
    }
   ],
   "source": [
    "print(len(Umap))"
   ]
  },
  {
   "cell_type": "code",
   "execution_count": 4,
   "metadata": {
    "ExecuteTime": {
     "end_time": "2020-11-22T00:26:33.722183Z",
     "start_time": "2020-11-22T00:26:25.251518Z"
    }
   },
   "outputs": [
    {
     "ename": "KeyboardInterrupt",
     "evalue": "",
     "output_type": "error",
     "traceback": [
      "\u001b[0;31m---------------------------------------------------------------------------\u001b[0m",
      "\u001b[0;31mKeyboardInterrupt\u001b[0m                         Traceback (most recent call last)",
      "\u001b[0;32m<ipython-input-4-2df4fe59719e>\u001b[0m in \u001b[0;36m<module>\u001b[0;34m\u001b[0m\n\u001b[1;32m      1\u001b[0m \u001b[0ma\u001b[0m \u001b[0;34m=\u001b[0m \u001b[0;34m[\u001b[0m\u001b[0;36m1\u001b[0m\u001b[0;34m,\u001b[0m \u001b[0;36m2\u001b[0m\u001b[0;34m,\u001b[0m \u001b[0;36m3\u001b[0m\u001b[0;34m,\u001b[0m \u001b[0;36m4\u001b[0m\u001b[0;34m,\u001b[0m \u001b[0;36m5\u001b[0m\u001b[0;34m,\u001b[0m \u001b[0;36m6\u001b[0m\u001b[0;34m]\u001b[0m\u001b[0;34m\u001b[0m\u001b[0;34m\u001b[0m\u001b[0m\n\u001b[1;32m      2\u001b[0m \u001b[0;32mfor\u001b[0m \u001b[0mx\u001b[0m \u001b[0;32min\u001b[0m \u001b[0ma\u001b[0m\u001b[0;34m:\u001b[0m\u001b[0;34m\u001b[0m\u001b[0;34m\u001b[0m\u001b[0m\n\u001b[0;32m----> 3\u001b[0;31m     \u001b[0ma\u001b[0m\u001b[0;34m.\u001b[0m\u001b[0mappend\u001b[0m\u001b[0;34m(\u001b[0m\u001b[0;36m1\u001b[0m\u001b[0;34m)\u001b[0m\u001b[0;34m\u001b[0m\u001b[0;34m\u001b[0m\u001b[0m\n\u001b[0m\u001b[1;32m      4\u001b[0m \u001b[0mprint\u001b[0m\u001b[0;34m(\u001b[0m\u001b[0ma\u001b[0m\u001b[0;34m)\u001b[0m\u001b[0;34m\u001b[0m\u001b[0;34m\u001b[0m\u001b[0m\n",
      "\u001b[0;31mKeyboardInterrupt\u001b[0m: "
     ]
    }
   ],
   "source": [
    "a = [1, 2, 3, 4, 5, 6]\n",
    "for x in a:\n",
    "    a.append(1)\n",
    "print(a)"
   ]
  },
  {
   "cell_type": "code",
   "execution_count": 8,
   "metadata": {
    "ExecuteTime": {
     "end_time": "2020-11-22T10:41:55.176614Z",
     "start_time": "2020-11-22T10:41:55.166188Z"
    }
   },
   "outputs": [],
   "source": [
    "def recursive_sort(raw_list, sort_list, match):\n",
    "    \n",
    "    for item in raw_list:\n",
    "        if item[0] == match:\n",
    "            sort_list.append(item)\n",
    "            recursive_sort(raw_list, sort_list, item[1])\n",
    "        \n",
    "    return\n",
    "\n",
    "\n",
    "def COM_classification(sorted_orbits):\n",
    "    \n",
    "    classif = [['Z', 0]]\n",
    "    com_value = 0\n",
    "    \n",
    "    for orbit in sorted_orbits:\n",
    "            for item in classif:\n",
    "                if orbit[0] == item[0]:\n",
    "                    classif.append([orbit[1], item[1]+1])\n",
    "    \n",
    "    \n",
    "    return classif"
   ]
  },
  {
   "cell_type": "code",
   "execution_count": 9,
   "metadata": {
    "ExecuteTime": {
     "end_time": "2020-11-22T10:41:55.912184Z",
     "start_time": "2020-11-22T10:41:55.905091Z"
    }
   },
   "outputs": [],
   "source": [
    "catalogue = []\n",
    "sortalogue = []\n",
    "with open('input_test.txt', 'r') as infile:\n",
    "    for line in infile:\n",
    "        if line != '\\n':\n",
    "            catalogue.append(line.replace('\\n', '').replace(')', ''))            \n",
    "\n",
    "recursive_sort(catalogue, sortalogue, 'Z')   "
   ]
  },
  {
   "cell_type": "code",
   "execution_count": 10,
   "metadata": {
    "ExecuteTime": {
     "end_time": "2020-11-22T10:41:56.912486Z",
     "start_time": "2020-11-22T10:41:56.904944Z"
    }
   },
   "outputs": [
    {
     "name": "stdout",
     "output_type": "stream",
     "text": [
      "['BG', 'BC', 'CD', 'DE', 'EF', 'GH', 'DI', 'EJ', 'JK', 'KL', 'ZB'] ['ZB', 'BG', 'GH', 'BC', 'CD', 'DE', 'EF', 'EJ', 'JK', 'KL', 'DI']\n"
     ]
    }
   ],
   "source": [
    "print(catalogue, sortalogue)"
   ]
  },
  {
   "cell_type": "code",
   "execution_count": 11,
   "metadata": {
    "ExecuteTime": {
     "end_time": "2020-11-22T10:41:59.245327Z",
     "start_time": "2020-11-22T10:41:59.240624Z"
    }
   },
   "outputs": [
    {
     "name": "stdout",
     "output_type": "stream",
     "text": [
      "[['Z', 0], ['B', 1], ['G', 2], ['H', 3], ['C', 2], ['D', 3], ['E', 4], ['F', 5], ['J', 5], ['K', 6], ['L', 7], ['I', 4]]\n"
     ]
    }
   ],
   "source": [
    "com_classif = COM_classification(sortalogue)\n",
    "print(com_classif)"
   ]
  },
  {
   "cell_type": "code",
   "execution_count": null,
   "metadata": {},
   "outputs": [],
   "source": []
  }
 ],
 "metadata": {
  "kernelspec": {
   "display_name": "Python 3",
   "language": "python",
   "name": "python3"
  },
  "language_info": {
   "codemirror_mode": {
    "name": "ipython",
    "version": 3
   },
   "file_extension": ".py",
   "mimetype": "text/x-python",
   "name": "python",
   "nbconvert_exporter": "python",
   "pygments_lexer": "ipython3",
   "version": "3.6.9"
  }
 },
 "nbformat": 4,
 "nbformat_minor": 2
}
