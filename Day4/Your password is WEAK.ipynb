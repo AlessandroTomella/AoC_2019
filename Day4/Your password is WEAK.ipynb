{
 "cells": [
  {
   "cell_type": "code",
   "execution_count": 5,
   "metadata": {
    "ExecuteTime": {
     "end_time": "2020-11-19T16:27:40.870173Z",
     "start_time": "2020-11-19T16:27:40.865872Z"
    }
   },
   "outputs": [],
   "source": [
    "import re"
   ]
  },
  {
   "cell_type": "markdown",
   "metadata": {},
   "source": [
    "### Part 1"
   ]
  },
  {
   "cell_type": "code",
   "execution_count": 32,
   "metadata": {
    "ExecuteTime": {
     "end_time": "2020-11-19T16:48:40.057554Z",
     "start_time": "2020-11-19T16:48:40.053204Z"
    }
   },
   "outputs": [],
   "source": [
    "# THE RULES\n",
    "\n",
    "# 1) 6 digit password\n",
    "# 2) Between given range [357253-892942]\n",
    "# 3) Contains at least 1 repeated adjacent number\n",
    "# 4) The ciphers increase going from left to right\n",
    "\n",
    "# Note: the input interval is [357253-892942], but we can actually concentrate only on [357777-889999], since \n",
    "# all the other numbers in the original interval do not satisfy rule 4)\n",
    "\n",
    "START_VALUE = 357777\n",
    "END_VALUE = 889999"
   ]
  },
  {
   "cell_type": "code",
   "execution_count": 43,
   "metadata": {
    "ExecuteTime": {
     "end_time": "2020-11-19T17:15:20.457145Z",
     "start_time": "2020-11-19T17:15:19.620772Z"
    }
   },
   "outputs": [
    {
     "name": "stdout",
     "output_type": "stream",
     "text": [
      "530\n"
     ]
    }
   ],
   "source": [
    "# Password counter\n",
    "pssw_count = 0\n",
    "\n",
    "pssws = []\n",
    "\n",
    "# With a while loop\n",
    "number = START_VALUE\n",
    "while(number <= END_VALUE):\n",
    "    \n",
    "    # Write number as string so that we can use RE\n",
    "    string = str(number)\n",
    "    \n",
    "    # This RE matches any character that repeats itself adjacently in the string (rule 3)\n",
    "    if re.search(r'(.)\\1', string):\n",
    "        \n",
    "        # If the list is already sorted than also rule 4 is satisfied\n",
    "        if list(string) == sorted(list(string)):\n",
    "            # Increment counter\n",
    "            pssw_count += 1\n",
    "            # Save password for after\n",
    "            pssws.append(number)\n",
    "    \n",
    "    # Next number please!\n",
    "    number+= 1\n",
    "    \n",
    "print(pssw_count)\n"
   ]
  },
  {
   "cell_type": "markdown",
   "metadata": {},
   "source": [
    "### Part 2"
   ]
  },
  {
   "cell_type": "code",
   "execution_count": 42,
   "metadata": {
    "ExecuteTime": {
     "end_time": "2020-11-19T17:15:06.278439Z",
     "start_time": "2020-11-19T17:15:06.267970Z"
    }
   },
   "outputs": [
    {
     "name": "stdout",
     "output_type": "stream",
     "text": [
      "324\n"
     ]
    }
   ],
   "source": [
    "# NEW RULE\n",
    "\n",
    "# There must be at least one number in the password that repeats itself EXACTLY 2 TIMES\n",
    "\n",
    "# Same as before\n",
    "new_pssw_count = 0\n",
    "new_pssws = []\n",
    "\n",
    "# Using the recently created list of valid passwords we do not have to care about verifying rule 4\n",
    "for pssw in pssws:\n",
    "    \n",
    "    string = str(pssw)\n",
    "   \n",
    "    # As before, but this gives the list of numbers which repeat in the current password \n",
    "    # for example '377788' --> ['7', '8']\n",
    "    matches = re.findall(r'(.)\\1', string)\n",
    "    \n",
    "    # Cyclying over matches we can count if any match repeats itself only two times\n",
    "    for match in matches:\n",
    "        if list(string).count(match) == 2:\n",
    "            new_pssw_count += 1\n",
    "            new_pssws.append(pssw)\n",
    "            break\n",
    "\n",
    "print(new_pssw_count)\n",
    "        \n",
    "\n"
   ]
  },
  {
   "cell_type": "code",
   "execution_count": null,
   "metadata": {},
   "outputs": [],
   "source": []
  }
 ],
 "metadata": {
  "kernelspec": {
   "display_name": "Python 3",
   "language": "python",
   "name": "python3"
  },
  "language_info": {
   "codemirror_mode": {
    "name": "ipython",
    "version": 3
   },
   "file_extension": ".py",
   "mimetype": "text/x-python",
   "name": "python",
   "nbconvert_exporter": "python",
   "pygments_lexer": "ipython3",
   "version": "3.6.9"
  }
 },
 "nbformat": 4,
 "nbformat_minor": 2
}
