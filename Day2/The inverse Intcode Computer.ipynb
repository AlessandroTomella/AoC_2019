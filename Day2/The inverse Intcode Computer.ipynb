{
 "cells": [
  {
   "cell_type": "code",
   "execution_count": 35,
   "metadata": {
    "ExecuteTime": {
     "end_time": "2020-11-18T10:05:46.839525Z",
     "start_time": "2020-11-18T10:05:46.829127Z"
    }
   },
   "outputs": [],
   "source": [
    "import numpy as np\n",
    "\n",
    "# Function that runs the Intcode set of instructions\n",
    "def run_Intcode(instr):\n",
    "    \n",
    "    # Length of instruction set\n",
    "    Ilength = len(instr)\n",
    "    \n",
    "    # Set current poisition to 0\n",
    "    curr_pos = 0\n",
    "    \n",
    "    # While there is still a new opcode in the list\n",
    "    while(curr_pos+4 < Ilength):\n",
    "        \n",
    "        opcode = instr[curr_pos]\n",
    "        \n",
    "        # Add\n",
    "        if opcode == 1:\n",
    "            instr[instr[curr_pos+3]] = instr[instr[curr_pos+1]] + instr[instr[curr_pos+2]]\n",
    "         \n",
    "        # Multiply\n",
    "        elif opcode == 2:\n",
    "            instr[instr[curr_pos+3]] = instr[instr[curr_pos+1]]*instr[instr[curr_pos+2]]\n",
    "        \n",
    "        # Natural hault\n",
    "        elif opcode == 99:\n",
    "            #print(\"Program is comlpeted. Haulting.\")\n",
    "            return 1\n",
    "        \n",
    "        # Error hault\n",
    "        else:\n",
    "            print(\"Unknown opcode '\" + str(instr[curr_pos]) + \"'. An error has occurred. Haulting.\")\n",
    "            return 0\n",
    "   \n",
    "        # Go to next opcode position\n",
    "        curr_pos += 4\n",
    "    \n",
    "    # If the 'while' loop is completed before an opcode 99 is encountered,\n",
    "    # then we have a problem. Signal this to the user\n",
    "    print(\"Intcode executed but no haulting signal was found.\")\n",
    "    print(\"The Intcode sequence may be corrupted!\")\n",
    "    return -1\n",
    "\n",
    "\n",
    "TARGET_VALUE = 19690720"
   ]
  },
  {
   "cell_type": "code",
   "execution_count": 36,
   "metadata": {
    "ExecuteTime": {
     "end_time": "2020-11-18T10:05:47.868676Z",
     "start_time": "2020-11-18T10:05:47.863475Z"
    }
   },
   "outputs": [],
   "source": [
    "# Load initial memory state from input.txt\n",
    "with open(\"input.txt\", 'r') as infile:\n",
    "    strIntcode = infile.read().split(',')\n",
    "    \n",
    "mem_state = np.array([int(item) for item in strIntcode])"
   ]
  },
  {
   "cell_type": "code",
   "execution_count": 38,
   "metadata": {
    "ExecuteTime": {
     "end_time": "2020-11-18T10:07:33.075580Z",
     "start_time": "2020-11-18T10:07:32.722666Z"
    }
   },
   "outputs": [
    {
     "name": "stdout",
     "output_type": "stream",
     "text": [
      "6086\n"
     ]
    }
   ],
   "source": [
    "# The values for 'noun' and 'verb' must be in the range 0-137, since they indicate the position\n",
    "# of the elements in the Intcode which are to be added/multiplied. This means that to build\n",
    "# a valid Intcode, all the entries (which are not opcodes) must be in this range, so we can simply look for\n",
    "# the solution by testing them all. They're just 137*137 in the end...\n",
    "possibilities = [(x, y) for x in range(137) for y in range(137)]\n",
    "\n",
    "for noun,verb in possibilities:\n",
    "    \n",
    "    # Set initial memory state\n",
    "    Intcode = np.copy(mem_state)\n",
    "    \n",
    "    # Modify Intcode\n",
    "    Intcode[1] = noun \n",
    "    Intcode[2] = verb \n",
    "    \n",
    "    # Run Intcode\n",
    "    run_Intcode(Intcode)\n",
    "    \n",
    "    # If we have found the right output, interrupt 'for' loop\n",
    "    if (Intcode[0] == TARGET_VALUE):\n",
    "        break\n",
    "\n",
    "# Print the solution\n",
    "print(100*noun + verb)"
   ]
  },
  {
   "cell_type": "code",
   "execution_count": null,
   "metadata": {},
   "outputs": [],
   "source": []
  }
 ],
 "metadata": {
  "kernelspec": {
   "display_name": "Python 3",
   "language": "python",
   "name": "python3"
  },
  "language_info": {
   "codemirror_mode": {
    "name": "ipython",
    "version": 3
   },
   "file_extension": ".py",
   "mimetype": "text/x-python",
   "name": "python",
   "nbconvert_exporter": "python",
   "pygments_lexer": "ipython3",
   "version": "3.6.9"
  }
 },
 "nbformat": 4,
 "nbformat_minor": 2
}
