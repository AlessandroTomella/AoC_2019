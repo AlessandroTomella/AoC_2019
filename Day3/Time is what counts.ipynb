{
 "cells": [
  {
   "cell_type": "code",
   "execution_count": 19,
   "metadata": {
    "ExecuteTime": {
     "end_time": "2020-11-19T15:30:28.275562Z",
     "start_time": "2020-11-19T15:30:28.253157Z"
    }
   },
   "outputs": [],
   "source": [
    "import numpy as np\n",
    "import matplotlib.pyplot as plt\n",
    "import re\n",
    "\n",
    "# Convert the list of instructions from its input form 'U123' to a list\n",
    "# of points in the cartesian plane visited by the wire\n",
    "def to_cartesian(wirepath):\n",
    "    \n",
    "    # Declare cartesian list to store positions in cartesian coordinates\n",
    "    # starting from the origin (the central port)\n",
    "    cartesian = [[0, 0]]\n",
    "    \n",
    "    # Length of the instruction set\n",
    "    length = len(wirepath)\n",
    "    \n",
    "    for i in range(1, length+1):\n",
    "        \n",
    "        # Split the instruction, e.g.: 'U123' -> ['U', '1', '2', '3']\n",
    "        a = list(wirepath[i-1])\n",
    "        \n",
    "        # First element is the direction to move in\n",
    "        direction = a[0]\n",
    "        \n",
    "        # Removing the character, the remaining information is an int that\n",
    "        # instructs on how much to move in the said direction\n",
    "        value = int(wirepath[i-1].replace(direction, ''))\n",
    "        \n",
    "        # Append to 'cartesian' the new cartesian coordinates resulting from moving\n",
    "        # from the last position following the instruction\n",
    "        if direction == 'U':\n",
    "            cartesian.append([cartesian[i-1][0], cartesian[i-1][1] + value])\n",
    "        elif direction == 'D':\n",
    "            cartesian.append([cartesian[i-1][0], cartesian[i-1][1] - value])\n",
    "        elif direction == 'R':\n",
    "            cartesian.append([cartesian[i-1][0] + value, cartesian[i-1][1]])\n",
    "        elif direction == 'L':\n",
    "            cartesian.append([cartesian[i-1][0] - value, cartesian[i-1][1]])\n",
    "      \n",
    "    # Return the new list created in this way\n",
    "    return cartesian\n",
    "     \n",
    "    \n",
    "# This function calculates the Manhattan distance of a point\n",
    "# from the origin of the coordinate grid\n",
    "def Manhattan(point):\n",
    "    \n",
    "    return abs(point[0]) + abs(point[1])\n",
    "\n",
    "\n",
    "# Length of the wire. The 'stop' parameter specify a point at which\n",
    "# the calculation must end. By default it is [0.5, 0.5], so it returns the length\n",
    "# of the whole wire (since the path has only integer points).\n",
    "def wire_length(wirepath, stop=[0.5, 0.5]):\n",
    "    \n",
    "    prev = np.array([0, 0])\n",
    "    distance = 0\n",
    "    \n",
    "    for point in wirepath:\n",
    "        diff = point - prev\n",
    "        distance += abs(diff[0]) + abs(diff[1])\n",
    "        prev = point\n",
    "        if np.all(point == stop):\n",
    "            break\n",
    "        \n",
    "    return distance\n",
    "\n",
    "\n",
    "# Function that fills instruction lists into its atomic instructions\n",
    "def fill_instruction_list(instr_list):\n",
    "    \n",
    "    filled = []\n",
    "    \n",
    "    for instruction in instr_list:\n",
    "        direction = re.findall('[A-Z]', instruction)[0]\n",
    "        value = int(re.findall('[0-9]+', instruction)[0])\n",
    "    \n",
    "        for i in range(value):\n",
    "            # Move 1 step in the specified direction\n",
    "            filled.append(direction+'1')\n",
    "    \n",
    "    return filled\n",
    "\n",
    "\n",
    "# Function that creates a unique hash string from a pair of cartesia points as:\n",
    "# (12, 34) --> x12y34. Modified from Part1: this function does not act on lists but on single values\n",
    "# either \n",
    "def cartesian_hash(expr, option = 0):\n",
    "    \n",
    "    if option == 'r':\n",
    "        \n",
    "        elem = list(expr.replace('x', '').split('y'))\n",
    "        hashed = [int(x) for x in elem]\n",
    "        \n",
    "    else:\n",
    "        \n",
    "        hashed = 'x'+str(expr[0])+'y'+str(expr[1])\n",
    "    \n",
    "    return hashed\n",
    "    "
   ]
  },
  {
   "cell_type": "code",
   "execution_count": 20,
   "metadata": {
    "ExecuteTime": {
     "end_time": "2020-11-19T15:30:34.659856Z",
     "start_time": "2020-11-19T15:30:31.786460Z"
    }
   },
   "outputs": [
    {
     "name": "stdout",
     "output_type": "stream",
     "text": [
      "147638 150424\n"
     ]
    }
   ],
   "source": [
    "# Load instruction from file\n",
    "with open(\"input.txt\", 'r') as infile:\n",
    "    \n",
    "    wire_1 = infile.readline().replace('\\n', '').split(',')\n",
    "    wire_2 = infile.readline().replace('\\n', '').split(',')\n",
    "    \n",
    "# Extend the instruction sets and store cartesian form           \n",
    "wire_1_ext = np.array(to_cartesian(fill_instruction_list(wire_1)))\n",
    "wire_2_ext = np.array(to_cartesian(fill_instruction_list(wire_2)))\n",
    "\n",
    "print(wire_length(wire_1_ext), wire_length(wire_2_ext))"
   ]
  },
  {
   "cell_type": "code",
   "execution_count": 15,
   "metadata": {
    "ExecuteTime": {
     "end_time": "2020-11-19T14:41:22.452346Z",
     "start_time": "2020-11-19T14:41:22.176200Z"
    }
   },
   "outputs": [],
   "source": [
    "# Initialize the two sets\n",
    "wire_1_set = set([cartesian_hash(x) for x in wire_1_ext])\n",
    "wire_2_set = set([cartesian_hash(x) for x in wire_2_ext])\n",
    "\n",
    "# Find the intersections\n",
    "set_crosses = []\n",
    "\n",
    "for point in wire_1_set:\n",
    "    if point in wire_2_set:\n",
    "        set_crosses.append(point)\n",
    "    \n",
    "# We must also convert back to the cartesian form from the hashed form\n",
    "crosses = np.array([cartesian_hash(x, 'r') for x in set_crosses])"
   ]
  },
  {
   "cell_type": "code",
   "execution_count": 28,
   "metadata": {
    "ExecuteTime": {
     "end_time": "2020-11-19T15:54:30.394904Z",
     "start_time": "2020-11-19T15:53:53.486772Z"
    }
   },
   "outputs": [
    {
     "name": "stdout",
     "output_type": "stream",
     "text": [
      "107036\n"
     ]
    }
   ],
   "source": [
    "# Find the intersection points which is closest to the origin following the wires' paths.\n",
    "\n",
    "# Set a starting value (bigger than all the others)\n",
    "shortest = wire_length(wire_1_ext)\n",
    "\n",
    "for cross in crosses:\n",
    "    # The origin doesn't count\n",
    "    if np.all(cross == [0, 0]):\n",
    "        continue\n",
    "        \n",
    "    # Distance along the wires to the intersection point\n",
    "    wire_1_steps = wire_length(wire_1_ext, cross)\n",
    "    wire_2_steps = wire_length(wire_2_ext, cross)\n",
    "    to_get_there = wire_1_steps + wire_2_steps\n",
    "    if to_get_there <= shortest:\n",
    "        shortest = to_get_there\n",
    "                \n",
    "print(shortest)"
   ]
  },
  {
   "cell_type": "code",
   "execution_count": null,
   "metadata": {},
   "outputs": [],
   "source": []
  }
 ],
 "metadata": {
  "kernelspec": {
   "display_name": "Python 3",
   "language": "python",
   "name": "python3"
  },
  "language_info": {
   "codemirror_mode": {
    "name": "ipython",
    "version": 3
   },
   "file_extension": ".py",
   "mimetype": "text/x-python",
   "name": "python",
   "nbconvert_exporter": "python",
   "pygments_lexer": "ipython3",
   "version": "3.6.9"
  }
 },
 "nbformat": 4,
 "nbformat_minor": 2
}
