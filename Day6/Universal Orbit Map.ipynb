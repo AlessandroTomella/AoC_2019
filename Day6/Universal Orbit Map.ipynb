{
 "cells": [
  {
   "cell_type": "code",
   "execution_count": 158,
   "metadata": {
    "ExecuteTime": {
     "end_time": "2020-11-22T17:50:42.059689Z",
     "start_time": "2020-11-22T17:50:42.041370Z"
    }
   },
   "outputs": [],
   "source": [
    "# Should have thought about this earlier...\n",
    "# The input from the problem differs from the example in one fundamental detail...\n",
    "# I discover this solution by accident, being stuck for a day on this problem because the other method I\n",
    "# implemented was to slow!\n",
    "# \n",
    "# My first attempt at the problem was something alone the lines of cell 3.\n",
    "# this worked on the example, but somehow didn't work on the input data. I've soon realized that\n",
    "# the reason was that the example data is ORDERED in a particular way. Every object in the list is\n",
    "# immediately followed by an object directly orbiting it! The input data for the problem, unfortunately\n",
    "# doesn't have this nice property. I spent the whole afternoon trying to avoid the problem, \n",
    "# cycling over the input data REPEATEDLY and updating a mega-list called 'Umap' (Universal Map). \n",
    "# When a cycle finished, then a new one began, still confronting the input data with the mega-list Umap, \n",
    "# and adding new indirect links if necessary. For details about this P.I.T.A. of a solution look at\n",
    "# the jupyter filed with 'Idiot' in their names...\n",
    "#\n",
    "# Just before going to dinner, after trying a lot of solutions to optimize the search, and trying the answer\n",
    "# 4 times, I realized I was missing something crucial. I thought 'maybe I shuld try to order the input data\n",
    "# and then use my first solution, which should then work on the ordered input...'. To be honest I wasn't\n",
    "# sure at all, but at least I would try something new. How to order the set? The recursivity option came quite\n",
    "# quickly at this point. Here it is. Just bare in mind the implementation details depend on the way\n",
    "# I decided to load the input data (contained in 'raw_list'). In particular from 'AAA)BBB' to simply 'AAABBB'\n",
    "\n",
    "def recursive_sort(raw_list, sort_list, match):\n",
    "    \n",
    "    for item in raw_list:\n",
    "        if item[0:3] == match:#\n",
    "            sort_list.append(item)\n",
    "            recursive_sort(raw_list, sort_list, item[3:6])#3:6\n",
    "        \n",
    "    return\n",
    "# It is so simple it doesn't require any explanation...\n",
    "\n",
    "\n",
    "\n",
    "# Function that creates the Universal Map, i.e. a catalogue of all objects and their orbits such that:\n",
    "# - 'AAABBB' means BBB directly orbits AAA\n",
    "# - 'AAACCCi' means CCC indirectly  orbits AAA\n",
    "# Input must be sorted in the sense of 'recursive_sort' function.\n",
    "def create_UniMap(sort_list):\n",
    "    \n",
    "    Universal_map = sort_list[:]\n",
    "\n",
    "    # This is just for printing something during the loop\n",
    "    count = 1\n",
    "\n",
    "    # Now the idea to create the Universal Map. I know this works because\n",
    "    # In a couple AAABBB let's call AAA body and BBB satellite for the sake of explanation.\n",
    "    # For every direct orbit in the sorted input \n",
    "    for item in sort_list:\n",
    "\n",
    "        # Some printing\n",
    "        if count%100 == 0:\n",
    "            print(count, \"/\", len(sort_list)) \n",
    "        count+= 1\n",
    "    \n",
    "        # Check all orbits already in Umap\n",
    "        for link in Universal_map:\n",
    "            # If the current body is the satellite for some other body in Umap\n",
    "            if item[0:3] == link[3:6]:\n",
    "                # Add a new indirect orbit with that body of Umap and the current satellite\n",
    "                Universal_map.append(link[0:3] + item[3:6] +'i')\n",
    "    \n",
    "    # All this magically works because, thanks to the sorted input, when we add a new element to the\n",
    "    # Universal Map, we can be assured that all its 'parent' orbits (meaning all its indirect\n",
    "    # orbits which closer to COM) have already been added. So we have no chance of missing any link.\n",
    "    return Universal_map\n",
    "    \n",
    "    \n",
    "# This could maybe be implemented inside the recursive_sort function, but I like to keep them\n",
    "# separated for clarity. This function does a very nice thing: for every object in our list (every star or planet)\n",
    "# it assigns it a 'COM_value', a numeric value that indicates the 'degree' of the object's orbit\n",
    "# with respect to COM. For COM this value is 0. For an object directly orbiting COM it is 1 and so on.\n",
    "# Many object can share the same COM_value obviously. \n",
    "# Again, the input of this function must be a sorted list of direct orbits, the output of 'recursive_sort'\n",
    "# function. Not that implementing a similar function for a non-sorted list would be impossible, \n",
    "# but it wouldn't certainly be as little lines of code. Here the pre-sorting guarantees that whenever a new\n",
    "# object is encountered, all the object that it orbits (directly and indirectly) up until COM have\n",
    "# already been introduced in the classification, so we are not missing anything. \n",
    "def create_COM_classification(sorted_orbits, start):\n",
    "    \n",
    "    # Starting from COM\n",
    "    COM_classification = [[start, 0]]\n",
    "    \n",
    "    for orbit in sorted_orbits:\n",
    "            for item in COM_classification:\n",
    "                if orbit[0:3] == item[0]:\n",
    "                    COM_classification.append([orbit[3:6], item[1]+1])\n",
    "    \n",
    "    \n",
    "    return COM_classification\n",
    "\n",
    "\n",
    "# This function, does something similar to the previous one, but between single objects of our catalogue.\n",
    "# It calculates the number of orbital transfers needed to bring an object ('start') in orbit around\n",
    "# another object ('end').\n",
    "def orbit_transfer_counter(sorted_orbits, start, end):\n",
    "    \n",
    "    jump_to = start\n",
    "    # Counter starts from -1 since if 'start' and 'end' are directly orbiting each other (and thus\n",
    "    # they appear as 'endstart' in sorted_orbits), we have a total of 0 orbital transfers.\n",
    "    n_transfers = -1\n",
    "    \n",
    "    while jump_to != end:\n",
    "        \n",
    "        jump_to = [orbit[0:3] for orbit in sorted_orbits if orbit[3:6] == jump_to][0]\n",
    "        n_transfers += 1\n",
    "        \n",
    "    return n_transfers\n",
    "    "
   ]
  },
  {
   "cell_type": "code",
   "execution_count": 147,
   "metadata": {
    "ExecuteTime": {
     "end_time": "2020-11-22T17:38:50.643286Z",
     "start_time": "2020-11-22T17:38:50.521402Z"
    }
   },
   "outputs": [],
   "source": [
    "# Loading and formatting the input data. As explained above, from 'AAA)BBB' to just 'AAABBB'.\n",
    "# Since all astronomical objects have 3 letters names, this causes no confusion.\n",
    "catalogue = []\n",
    "sortalogue = []\n",
    "with open('input.txt', 'r') as infile:\n",
    "    for line in infile:\n",
    "        if line != '\\n':\n",
    "            catalogue.append(line.replace('\\n', '').replace(')', ''))            \n",
    "\n",
    "recursive_sort(catalogue, sortalogue, 'COM') \n"
   ]
  },
  {
   "cell_type": "code",
   "execution_count": 148,
   "metadata": {
    "ExecuteTime": {
     "end_time": "2020-11-22T17:39:03.281871Z",
     "start_time": "2020-11-22T17:38:51.517588Z"
    }
   },
   "outputs": [
    {
     "name": "stdout",
     "output_type": "stream",
     "text": [
      "100 / 1036\n",
      "200 / 1036\n",
      "300 / 1036\n",
      "400 / 1036\n",
      "500 / 1036\n",
      "600 / 1036\n",
      "700 / 1036\n",
      "800 / 1036\n",
      "900 / 1036\n",
      "1000 / 1036\n",
      "135690\n"
     ]
    }
   ],
   "source": [
    "# Create Universal Map. Takes a few seconds to run, and output has 135690 elements. Uncomment only if necessary!\n",
    "Umap = create_UniMap(sortalogue)\n",
    "\n",
    "# By construction, the total number of direct and indirect orbits it's just the number of items of the\n",
    "# Universal Map.\n",
    "print(len(Umap))"
   ]
  },
  {
   "cell_type": "markdown",
   "metadata": {},
   "source": [
    "### Part 2: Shortest path to Santa"
   ]
  },
  {
   "cell_type": "code",
   "execution_count": 149,
   "metadata": {
    "ExecuteTime": {
     "end_time": "2020-11-22T17:39:06.139094Z",
     "start_time": "2020-11-22T17:39:06.132570Z"
    }
   },
   "outputs": [],
   "source": [
    "# Create a COM_value-based classification, with each object and its corresponding COM_value. For example:\n",
    "# ['COM', 0]\n",
    "# ['AAA', 1] (AAA directly orbits COM)\n",
    "# ['BBB', 2] (BBB directly orbits AAA)\n",
    "# ...\n",
    "# ...\n",
    "\n",
    "#COM_classification = create_COM_classification(sortalogue, 'COM')"
   ]
  },
  {
   "cell_type": "code",
   "execution_count": 153,
   "metadata": {
    "ExecuteTime": {
     "end_time": "2020-11-22T17:46:05.735890Z",
     "start_time": "2020-11-22T17:46:05.447307Z"
    }
   },
   "outputs": [
    {
     "name": "stdout",
     "output_type": "stream",
     "text": [
      "63 JZW\n"
     ]
    }
   ],
   "source": [
    "# We want to find the shortest path between us ('YOU') and Santa ('SAN'). We can do this in 2 steps:\n",
    "# step 1 -  we find the furthest (from COM) object which both us and Santa are orbiting: if both us and Santa\n",
    "#           were to climb our way up to COM, this object is the first one at which we could meet (provided one\n",
    "#           had the patiene to wait for the other, since our distances from that point may be different)\n",
    "#\n",
    "# Let's do this first! \n",
    "\n",
    "# Convert Umap to set just because\n",
    "set_Umap = set(Umap)\n",
    "# Declare the sets of indirect orbits for both us and Santa\n",
    "YOU_indirect_orbits = set()\n",
    "SAN_indirect_orbits = set()\n",
    "\n",
    "# Fill the sets: if we are orbiting an object, add it to our list, and same for good ol' Santa\n",
    "for link in Umap:\n",
    "    if link[3:6] == 'YOU' :\n",
    "        YOU_indirect_orbits.add(link[0:3])\n",
    "    if link[3:6] == 'SAN':\n",
    "        SAN_indirect_orbits.add(link[0:3])\n",
    "\n",
    "# Now find the intersection of the sets (objects which we both are orbiting), and in this new set\n",
    "# locate the element which has the greatest distance from COM.\n",
    "# The intersection, back to list since we need an index to initialize from.\n",
    "common = list(YOU_link.intersection(SAN_link))\n",
    "\n",
    "\n",
    "biggest_COM = orbit_transfer_counter(sortalogue, common[0], 'COM')\n",
    "\n",
    "# Simple for loop to find max values\n",
    "for item in common:\n",
    "    temp = orbit_transfer_counter(sortalogue, item, 'COM')\n",
    "    if temp > biggest_COM:\n",
    "        biggest_COM = temp\n",
    "        common_orbit = item\n",
    "        \n",
    "print(biggest_COM, common_orbit)"
   ]
  },
  {
   "cell_type": "code",
   "execution_count": 157,
   "metadata": {
    "ExecuteTime": {
     "end_time": "2020-11-22T17:47:54.204403Z",
     "start_time": "2020-11-22T17:47:54.148081Z"
    }
   },
   "outputs": [
    {
     "name": "stdout",
     "output_type": "stream",
     "text": [
      "298\n"
     ]
    }
   ],
   "source": [
    "# Now, the orbital transfers needed by me and Santa to orbit a common object will be given by the sum\n",
    "\n",
    "shortest_path = orbit_transfer_counter(sortalogue, 'YOU', 'JZW')+orbit_transfer_counter(sortalogue, 'SAN', 'JZW')\n",
    "\n",
    "print(shortest_path)"
   ]
  },
  {
   "cell_type": "code",
   "execution_count": null,
   "metadata": {},
   "outputs": [],
   "source": []
  }
 ],
 "metadata": {
  "kernelspec": {
   "display_name": "Python 3",
   "language": "python",
   "name": "python3"
  },
  "language_info": {
   "codemirror_mode": {
    "name": "ipython",
    "version": 3
   },
   "file_extension": ".py",
   "mimetype": "text/x-python",
   "name": "python",
   "nbconvert_exporter": "python",
   "pygments_lexer": "ipython3",
   "version": "3.6.9"
  }
 },
 "nbformat": 4,
 "nbformat_minor": 2
}
