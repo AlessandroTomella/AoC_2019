{
 "cells": [
  {
   "cell_type": "code",
   "execution_count": 7,
   "metadata": {
    "ExecuteTime": {
     "end_time": "2020-11-19T17:39:44.126180Z",
     "start_time": "2020-11-19T17:39:44.110867Z"
    }
   },
   "outputs": [],
   "source": [
    "import numpy as np\n",
    "\n",
    "# Run the instruction set\n",
    "\n",
    "def IntcodeComputer(instr):\n",
    "    \n",
    "    Intcode_length = len(instr)\n",
    "    curr_pos = 0\n",
    "    \n",
    "    while(curr_pos+4 < Intcode_length):\n",
    "        \n",
    "        if instr[curr_pos] == 1:\n",
    "            instr[instr[curr_pos+3]] = instr[instr[curr_pos+1]] + instr[instr[curr_pos+2]]\n",
    "            \n",
    "        elif instr[curr_pos] == 2:\n",
    "            instr[instr[curr_pos+3]] = instr[instr[curr_pos+1]]*instr[instr[curr_pos+2]]\n",
    "        \n",
    "        elif instr[curr_pos] == 99:\n",
    "            print(\"Program is finished. Haulting.\")\n",
    "            return 1\n",
    "        \n",
    "        else:\n",
    "            print(\"Unknown opcode '\" + str(instr[curr_pos]) + \"'. An error has occurred. Haulting.\")\n",
    "            return 0\n",
    "   \n",
    "        curr_pos += 4\n",
    "    \n",
    "    return -1\n"
   ]
  },
  {
   "cell_type": "code",
   "execution_count": null,
   "metadata": {},
   "outputs": [],
   "source": []
  },
  {
   "cell_type": "code",
   "execution_count": null,
   "metadata": {},
   "outputs": [],
   "source": []
  },
  {
   "cell_type": "code",
   "execution_count": 8,
   "metadata": {
    "ExecuteTime": {
     "end_time": "2020-11-19T17:39:48.344395Z",
     "start_time": "2020-11-19T17:39:48.333158Z"
    }
   },
   "outputs": [
    {
     "name": "stdout",
     "output_type": "stream",
     "text": [
      "Program is finished. Haulting.\n",
      "Intcode[0]: 4330636\n"
     ]
    }
   ],
   "source": [
    "with open(\"input.txt\", 'r') as infile:\n",
    "    strIntcode = infile.read().split(',')\n",
    "    \n",
    "# Load memory from file\n",
    "Intcode = np.array([int(item) for item in strIntcode])\n",
    "\n",
    "# Modify input memory according to assignement\n",
    "Intcode[1] = 12\n",
    "Intcode[2] = 2\n",
    "\n",
    "# Run instructions, and save in variable success\n",
    "success = IntcodeComputer(Intcode)\n",
    "\n",
    "print(\"Intcode[0]:\", Intcode[0])\n"
   ]
  },
  {
   "cell_type": "code",
   "execution_count": null,
   "metadata": {},
   "outputs": [],
   "source": []
  },
  {
   "cell_type": "code",
   "execution_count": null,
   "metadata": {},
   "outputs": [],
   "source": [
    "4330636\n"
   ]
  }
 ],
 "metadata": {
  "kernelspec": {
   "display_name": "Python 3",
   "language": "python",
   "name": "python3"
  },
  "language_info": {
   "codemirror_mode": {
    "name": "ipython",
    "version": 3
   },
   "file_extension": ".py",
   "mimetype": "text/x-python",
   "name": "python",
   "nbconvert_exporter": "python",
   "pygments_lexer": "ipython3",
   "version": "3.6.9"
  }
 },
 "nbformat": 4,
 "nbformat_minor": 2
}
