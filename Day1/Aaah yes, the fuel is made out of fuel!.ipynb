{
 "cells": [
  {
   "cell_type": "code",
   "execution_count": 1,
   "metadata": {
    "ExecuteTime": {
     "end_time": "2020-11-19T11:04:53.006782Z",
     "start_time": "2020-11-19T11:04:51.820438Z"
    }
   },
   "outputs": [],
   "source": [
    "import numpy as np\n",
    "\n",
    "def fuel_for_this_mass(mass):\n",
    "    return mass//3 - 2\n",
    "\n",
    "modules = np.loadtxt(\"input.txt\")"
   ]
  },
  {
   "cell_type": "markdown",
   "metadata": {},
   "source": [
    "### Part 1"
   ]
  },
  {
   "cell_type": "code",
   "execution_count": 2,
   "metadata": {
    "ExecuteTime": {
     "end_time": "2020-11-19T11:04:54.968325Z",
     "start_time": "2020-11-19T11:04:54.964049Z"
    }
   },
   "outputs": [
    {
     "name": "stdout",
     "output_type": "stream",
     "text": [
      "3198599.0\n"
     ]
    }
   ],
   "source": [
    "fuel = 0\n",
    "\n",
    "for module_mass in modules:\n",
    "    fuel += module_mass//3 - 2\n",
    "\n",
    "print(fuel)    "
   ]
  },
  {
   "cell_type": "markdown",
   "metadata": {},
   "source": [
    "### Part 2"
   ]
  },
  {
   "cell_type": "code",
   "execution_count": 3,
   "metadata": {
    "ExecuteTime": {
     "end_time": "2020-11-19T11:06:00.416394Z",
     "start_time": "2020-11-19T11:06:00.408800Z"
    }
   },
   "outputs": [
    {
     "name": "stdout",
     "output_type": "stream",
     "text": [
      "4795042.0\n"
     ]
    }
   ],
   "source": [
    "tot_fuel = 0\n",
    "\n",
    "for module_mass in modules:\n",
    "    fuel_mass = fuel_for_this_mass(module_mass)\n",
    "    while(fuel_mass > 0):\n",
    "        tot_fuel += fuel_mass\n",
    "        fuel_mass = fuel_for_this_mass(fuel_mass)\n",
    "               \n",
    "print(tot_fuel)"
   ]
  },
  {
   "cell_type": "code",
   "execution_count": null,
   "metadata": {},
   "outputs": [],
   "source": []
  }
 ],
 "metadata": {
  "kernelspec": {
   "display_name": "Python 3",
   "language": "python",
   "name": "python3"
  },
  "language_info": {
   "codemirror_mode": {
    "name": "ipython",
    "version": 3
   },
   "file_extension": ".py",
   "mimetype": "text/x-python",
   "name": "python",
   "nbconvert_exporter": "python",
   "pygments_lexer": "ipython3",
   "version": "3.6.9"
  }
 },
 "nbformat": 4,
 "nbformat_minor": 2
}
