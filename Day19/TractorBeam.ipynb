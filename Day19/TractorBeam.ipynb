{
 "cells": [
  {
   "cell_type": "code",
   "execution_count": 25,
   "metadata": {
    "ExecuteTime": {
     "end_time": "2021-02-06T20:47:02.946388Z",
     "start_time": "2021-02-06T20:47:02.941666Z"
    }
   },
   "outputs": [],
   "source": [
    "from mymodules import intcode as itc"
   ]
  },
  {
   "cell_type": "code",
   "execution_count": 26,
   "metadata": {
    "ExecuteTime": {
     "end_time": "2021-02-06T20:47:03.874389Z",
     "start_time": "2021-02-06T20:47:03.870809Z"
    }
   },
   "outputs": [],
   "source": [
    "with open(\"input.txt\") as infile:\n",
    "    intcode = [int(x) for x in infile.read().replace(\"\\n\", \"\").split(',')]"
   ]
  },
  {
   "cell_type": "code",
   "execution_count": 27,
   "metadata": {
    "ExecuteTime": {
     "end_time": "2021-02-06T20:47:10.248303Z",
     "start_time": "2021-02-06T20:47:05.401978Z"
    },
    "scrolled": true
   },
   "outputs": [
    {
     "name": "stdout",
     "output_type": "stream",
     "text": [
      "Total area covered by the beam on a 50x50 square:  166\n",
      "\n",
      "#.................................................\n",
      "..................................................\n",
      ".....#............................................\n",
      ".......##.........................................\n",
      ".........###......................................\n",
      "...........####...................................\n",
      ".............#####................................\n",
      "...............#####..............................\n",
      ".................######...........................\n",
      "...................#######........................\n",
      ".....................########.....................\n",
      ".......................#########..................\n",
      ".........................##########...............\n",
      "...........................###########............\n",
      ".............................###########..........\n",
      "...............................############.......\n",
      ".................................#############....\n",
      "...................................##############.\n",
      ".....................................#############\n",
      ".......................................###########\n",
      "..........................................########\n",
      "............................................######\n",
      "..............................................####\n",
      "................................................##\n",
      "..................................................\n",
      "..................................................\n",
      "..................................................\n",
      "..................................................\n",
      "..................................................\n",
      "..................................................\n",
      "..................................................\n",
      "..................................................\n",
      "..................................................\n",
      "..................................................\n",
      "..................................................\n",
      "..................................................\n",
      "..................................................\n",
      "..................................................\n",
      "..................................................\n",
      "..................................................\n",
      "..................................................\n",
      "..................................................\n",
      "..................................................\n",
      "..................................................\n",
      "..................................................\n",
      "..................................................\n",
      "..................................................\n",
      "..................................................\n",
      "..................................................\n",
      "..................................................\n"
     ]
    }
   ],
   "source": [
    "# Initializing intcode Computer instance\n",
    "tractorBeamProgram = itc.IntcodeComputer()\n",
    "\n",
    "tractorBeamImage=''\n",
    "area = 0\n",
    "\n",
    "# Cycling over the square row by row\n",
    "for i in range(50):\n",
    "    tractorBeamImage+='\\n'\n",
    "    for j in range(50):\n",
    "        # Restore software to initial state\n",
    "        tractorBeamProgram.load_intcode(intcode)\n",
    "        # Calculate output for current (x, y) pair\n",
    "        output = tractorBeamProgram.run(user_input=[i, j])\n",
    "        # Adding '. ' to the drawing if output is 0 else '# '\n",
    "        tractorBeamImage += '.' if output==0 else '#'\n",
    "        # Increment counter of positions affected by the beam\n",
    "        if output==1:\n",
    "            area+=1\n",
    "            \n",
    "print(\"Total area covered by the beam on a 50x50 square: \", area)\n",
    "print(tractorBeamImage)"
   ]
  },
  {
   "cell_type": "code",
   "execution_count": 28,
   "metadata": {
    "ExecuteTime": {
     "end_time": "2021-02-06T20:48:20.408335Z",
     "start_time": "2021-02-06T20:48:17.790132Z"
    }
   },
   "outputs": [
    {
     "name": "stdout",
     "output_type": "stream",
     "text": [
      "379 981\n",
      "3790981\n"
     ]
    }
   ],
   "source": [
    "# Algorithm that searches the nearest square of side = 100#\n",
    "# Use right pointer R to track rightmost '#' on each row rw\n",
    "# Go back 99 positions from R, and from there go down 99 rows\n",
    "# Run intcode computer on this position (R-99, rw+99)\n",
    "# If get still # exit, else increase row by one.\n",
    "\n",
    "\n",
    "# The square side we are looking for\n",
    "found = False\n",
    "square_side = 100\n",
    "\n",
    "# Starting from row 4\n",
    "row = 4\n",
    "# pointer to therightmost '#' in the image\n",
    "right = 11\n",
    "# Variable that speeds up the algorithm\n",
    "minimum_offset = 2\n",
    "\n",
    "while found is not True:\n",
    "    # Go to next row\n",
    "    row += 1\n",
    "    \n",
    "    # Find new rightmost '#' by going down and right until we find a 0.\n",
    "    # (this is the reason why we started at row 4), the algorithm\n",
    "    # wouldn't have worked for the first rows\n",
    "    new_right = right\n",
    "    m = minimum_offset\n",
    "    while new_right == right:\n",
    "        tractorBeamProgram.load_intcode(intcode)\n",
    "        output = tractorBeamProgram.run([row, right+m])\n",
    "        if output == 0:\n",
    "            new_right=right+m-1\n",
    "        m += 1\n",
    "     \n",
    "    # Assign position of new rightmost '#'\n",
    "    right = new_right\n",
    "    \n",
    "    # Go back and down by a total of 'square_side-1' positions\n",
    "    # and check if point is still inside th beam.\n",
    "    tractorBeamProgram.load_intcode(intcode)\n",
    "    if tractorBeamProgram.run([row+square_side-1, right-square_side+1])==1:\n",
    "        found = True    \n",
    "\n",
    "# Pront row and column. In my case I realized that I had switched X and Y all along\n",
    "# so the result was inverted (meaning: Y*1000 + X instead of X*1000 + Y)\n",
    "print(row, right-square_side+1)\n",
    "print(row*10000 + (right-99))"
   ]
  },
  {
   "cell_type": "code",
   "execution_count": null,
   "metadata": {},
   "outputs": [],
   "source": []
  }
 ],
 "metadata": {
  "kernelspec": {
   "display_name": "Python 3",
   "language": "python",
   "name": "python3"
  },
  "language_info": {
   "codemirror_mode": {
    "name": "ipython",
    "version": 3
   },
   "file_extension": ".py",
   "mimetype": "text/x-python",
   "name": "python",
   "nbconvert_exporter": "python",
   "pygments_lexer": "ipython3",
   "version": "3.6.9"
  }
 },
 "nbformat": 4,
 "nbformat_minor": 2
}
